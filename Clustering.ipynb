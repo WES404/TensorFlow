{
  "nbformat": 4,
  "nbformat_minor": 5,
  "metadata": {
    "kernelspec": {
      "display_name": "Python 3",
      "language": "python",
      "name": "python3"
    },
    "language_info": {
      "codemirror_mode": {
        "name": "ipython",
        "version": 3
      },
      "file_extension": ".py",
      "mimetype": "text/x-python",
      "name": "python",
      "nbconvert_exporter": "python",
      "pygments_lexer": "ipython3",
      "version": "3.8.5"
    },
    "colab": {
      "name": "Clustering.ipynb",
      "provenance": [],
      "collapsed_sections": []
    }
  },
  "cells": [
    {
      "cell_type": "code",
      "metadata": {
        "colab": {
          "base_uri": "https://localhost:8080/"
        },
        "id": "recent-elevation",
        "outputId": "dc7668dc-b0df-4a77-b389-255b61ccc784"
      },
      "source": [
        "%tensorflow_version 2.4"
      ],
      "id": "recent-elevation",
      "execution_count": 1,
      "outputs": [
        {
          "output_type": "stream",
          "text": [
            "`%tensorflow_version` only switches the major version: 1.x or 2.x.\n",
            "You set: `2.4`. This will be interpreted as: `2.x`.\n",
            "\n",
            "\n",
            "TensorFlow 2.x selected.\n"
          ],
          "name": "stdout"
        }
      ]
    },
    {
      "cell_type": "code",
      "metadata": {
        "colab": {
          "base_uri": "https://localhost:8080/"
        },
        "id": "mexican-cooperation",
        "outputId": "199c4d7b-50a8-4678-9081-cc6f6d413f80"
      },
      "source": [
        "!pip install tensorflow_probability==0.11.0rc0 --user --upgrade"
      ],
      "id": "mexican-cooperation",
      "execution_count": 2,
      "outputs": [
        {
          "output_type": "stream",
          "text": [
            "Collecting tensorflow_probability==0.11.0rc0\n",
            "\u001b[?25l  Downloading https://files.pythonhosted.org/packages/aa/80/ab13fbda7da31889627ce3b077d3441b95645214f152a4246f643e2eea7b/tensorflow_probability-0.11.0rc0-py2.py3-none-any.whl (4.3MB)\n",
            "\u001b[K     |████████████████████████████████| 4.3MB 11.3MB/s \n",
            "\u001b[?25hRequirement already satisfied, skipping upgrade: gast>=0.3.2 in /usr/local/lib/python3.6/dist-packages (from tensorflow_probability==0.11.0rc0) (0.3.3)\n",
            "Requirement already satisfied, skipping upgrade: decorator in /usr/local/lib/python3.6/dist-packages (from tensorflow_probability==0.11.0rc0) (4.4.2)\n",
            "Requirement already satisfied, skipping upgrade: six>=1.10.0 in /usr/local/lib/python3.6/dist-packages (from tensorflow_probability==0.11.0rc0) (1.15.0)\n",
            "Requirement already satisfied, skipping upgrade: numpy>=1.13.3 in /usr/local/lib/python3.6/dist-packages (from tensorflow_probability==0.11.0rc0) (1.19.5)\n",
            "Requirement already satisfied, skipping upgrade: cloudpickle==1.3 in /usr/local/lib/python3.6/dist-packages (from tensorflow_probability==0.11.0rc0) (1.3.0)\n",
            "Requirement already satisfied, skipping upgrade: dm-tree in /usr/local/lib/python3.6/dist-packages (from tensorflow_probability==0.11.0rc0) (0.1.5)\n",
            "Installing collected packages: tensorflow-probability\n",
            "Successfully installed tensorflow-probability-0.11.0rc0\n"
          ],
          "name": "stdout"
        }
      ]
    },
    {
      "cell_type": "code",
      "metadata": {
        "id": "medical-season"
      },
      "source": [
        "import tensorflow_probability as tfp \n",
        "import tensorflow as tf"
      ],
      "id": "medical-season",
      "execution_count": 3,
      "outputs": []
    },
    {
      "cell_type": "markdown",
      "metadata": {
        "id": "crude-tradition"
      },
      "source": [
        "# Hidden Markov Models"
      ],
      "id": "crude-tradition"
    },
    {
      "cell_type": "markdown",
      "metadata": {
        "id": "adult-enlargement"
      },
      "source": [
        "## Prevendo o tempo"
      ],
      "id": "adult-enlargement"
    },
    {
      "cell_type": "markdown",
      "metadata": {
        "id": "hispanic-stations"
      },
      "source": [
        "Taken direclty from the TensorFlow documentation (https://www.tensorflow.org/probability/api_docs/python/tfp/distributions/HiddenMarkovModel).\n",
        "\n",
        "We will model a simple weather system and try to predict the temperature on each day given the following information.\n",
        "\n",
        "1. Cold days are encoded by a 0 and hot days are encoded by a 1.\n",
        "2. The first day in our sequence has an 80% chance of being cold.\n",
        "3. A cold day has a 30% chance of being followed by a hot day.\n",
        "4. A hot day has a 20% chance of being followed by a cold day.\n",
        "5. On each day the temperature is normally distributed with mean and **standard deviation** 0 and 5 on a cold day and mean and standard deviation 15 and 10 on a hot day."
      ],
      "id": "hispanic-stations"
    },
    {
      "cell_type": "code",
      "metadata": {
        "id": "molecular-royal"
      },
      "source": [
        "tfd = tfp.distributions  # atalho\n",
        "initial_distribution = tfd.Categorical(probs=[0.2, 0.8])  # Referido ao ponto 2 \n",
        "transition_distribution = tfd.Categorical(probs=[[0.5, 0.5],\n",
        "                                                 [0.2, 0.8]])  # referido aos pontos 3 e 4 \n",
        "observation_distribution = tfd.Normal(loc=[0., 15.], scale=[5., 10.])  # referido ao ponto 5\n",
        "\n",
        "# loc representa a média e scale é o desvio padrão"
      ],
      "id": "molecular-royal",
      "execution_count": 8,
      "outputs": []
    },
    {
      "cell_type": "markdown",
      "metadata": {
        "id": "CctyZxuO6t3h"
      },
      "source": [
        "# Modelo"
      ],
      "id": "CctyZxuO6t3h"
    },
    {
      "cell_type": "code",
      "metadata": {
        "id": "hourly-influence"
      },
      "source": [
        "model = tfd.HiddenMarkovModel(\r\n",
        "    initial_distribution=initial_distribution,\r\n",
        "    transition_distribution=transition_distribution,\r\n",
        "    observation_distribution=observation_distribution,\r\n",
        "    num_steps=7)"
      ],
      "id": "hourly-influence",
      "execution_count": 9,
      "outputs": []
    },
    {
      "cell_type": "code",
      "metadata": {
        "id": "hOu5EC9e648e"
      },
      "source": [
        ""
      ],
      "id": "hOu5EC9e648e",
      "execution_count": null,
      "outputs": []
    },
    {
      "cell_type": "markdown",
      "metadata": {
        "id": "ci-aMncQ67Cb"
      },
      "source": [
        "O número de passos representa o número de dias.\r\n",
        "Para ter as temperaturas:\r\n"
      ],
      "id": "ci-aMncQ67Cb"
    },
    {
      "cell_type": "code",
      "metadata": {
        "colab": {
          "base_uri": "https://localhost:8080/"
        },
        "id": "E2vNDMA_7GZ7",
        "outputId": "e11d2778-f8d0-43ad-9277-464bca4819dc"
      },
      "source": [
        "media = model.mean()\r\n",
        "with tf.compat.v1.Session() as sess:\r\n",
        "  print(media.numpy())"
      ],
      "id": "E2vNDMA_7GZ7",
      "execution_count": 10,
      "outputs": [
        {
          "output_type": "stream",
          "text": [
            "[12.       11.1      10.83     10.748999 10.724699 10.71741  10.715222]\n"
          ],
          "name": "stdout"
        }
      ]
    },
    {
      "cell_type": "code",
      "metadata": {
        "id": "9KoGHjPU7VRW"
      },
      "source": [
        ""
      ],
      "id": "9KoGHjPU7VRW",
      "execution_count": null,
      "outputs": []
    }
  ]
}