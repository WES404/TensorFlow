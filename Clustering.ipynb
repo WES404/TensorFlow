{
 "cells": [
  {
   "cell_type": "code",
   "execution_count": 15,
   "id": "fitting-belief",
   "metadata": {},
   "outputs": [
    {
     "name": "stderr",
     "output_type": "stream",
     "text": [
      "UsageError: Line magic function `%tensorflow_version` not found.\n"
     ]
    }
   ],
   "source": [
    "%tensorflow_version 2.4"
   ]
  },
  {
   "cell_type": "code",
   "execution_count": 12,
   "id": "daily-crime",
   "metadata": {},
   "outputs": [
    {
     "name": "stdout",
     "output_type": "stream",
     "text": [
      "Requirement already satisfied: tensorflow_probability==0.11.0rc0 in c:\\users\\rio photo eventos\\appdata\\roaming\\python\\python38\\site-packages (0.11.0rc0)\n",
      "Requirement already satisfied: decorator in c:\\users\\rio photo eventos\\.conda\\envs\\tf\\lib\\site-packages (from tensorflow_probability==0.11.0rc0) (4.4.2)\n",
      "Requirement already satisfied: cloudpickle==1.3 in c:\\users\\rio photo eventos\\appdata\\roaming\\python\\python38\\site-packages (from tensorflow_probability==0.11.0rc0) (1.3.0)\n",
      "Requirement already satisfied: gast>=0.3.2 in c:\\users\\rio photo eventos\\.conda\\envs\\tf\\lib\\site-packages (from tensorflow_probability==0.11.0rc0) (0.4.0)\n",
      "Requirement already satisfied: dm-tree in c:\\users\\rio photo eventos\\appdata\\roaming\\python\\python38\\site-packages (from tensorflow_probability==0.11.0rc0) (0.1.5)\n",
      "Requirement already satisfied: six>=1.10.0 in c:\\users\\rio photo eventos\\.conda\\envs\\tf\\lib\\site-packages (from tensorflow_probability==0.11.0rc0) (1.15.0)\n",
      "Requirement already satisfied: numpy>=1.13.3 in c:\\users\\rio photo eventos\\.conda\\envs\\tf\\lib\\site-packages (from tensorflow_probability==0.11.0rc0) (1.19.2)\n"
     ]
    }
   ],
   "source": [
    "!pip install tensorflow_probability==0.11.0rc0 --user --upgrade"
   ]
  },
  {
   "cell_type": "code",
   "execution_count": 14,
   "id": "asian-tournament",
   "metadata": {},
   "outputs": [],
   "source": [
    "import tensorflow_probability as tfp \n",
    "import tensorflow as tf"
   ]
  },
  {
   "cell_type": "markdown",
   "id": "organizational-password",
   "metadata": {},
   "source": [
    "# Hidden Markov Models"
   ]
  },
  {
   "cell_type": "code",
   "execution_count": null,
   "id": "important-slope",
   "metadata": {},
   "outputs": [],
   "source": []
  }
 ],
 "metadata": {
  "kernelspec": {
   "display_name": "Python 3",
   "language": "python",
   "name": "python3"
  },
  "language_info": {
   "codemirror_mode": {
    "name": "ipython",
    "version": 3
   },
   "file_extension": ".py",
   "mimetype": "text/x-python",
   "name": "python",
   "nbconvert_exporter": "python",
   "pygments_lexer": "ipython3",
   "version": "3.8.5"
  }
 },
 "nbformat": 4,
 "nbformat_minor": 5
}
