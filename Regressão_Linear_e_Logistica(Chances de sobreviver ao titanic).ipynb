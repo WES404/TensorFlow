{
 "cells": [
  {
   "cell_type": "code",
   "execution_count": 1,
   "metadata": {},
   "outputs": [],
   "source": [
    "import tensorflow as tf"
   ]
  },
  {
   "cell_type": "markdown",
   "metadata": {},
   "source": [
    "# Linear Regression"
   ]
  },
  {
   "cell_type": "code",
   "execution_count": 2,
   "metadata": {},
   "outputs": [
    {
     "data": {
      "text/plain": [
       "(0.0, 6.0, 0.0, 20.0)"
      ]
     },
     "execution_count": 2,
     "metadata": {},
     "output_type": "execute_result"
    },
    {
     "data": {
      "image/png": "[encoded data removed]",
      "text/plain": [
       "<Figure size 432x288 with 1 Axes>"
      ]
     },
     "metadata": {
      "needs_background": "light"
     },
     "output_type": "display_data"
    }
   ],
   "source": [
    "import matplotlib.pyplot as plt\n",
    "import numpy as np\n",
    "\n",
    "\n",
    "x = [1, 2, 2.5, 3, 4]\n",
    "y = [1, 4, 7, 9, 15]\n",
    "plt.plot(x, y, 'ro')\n",
    "plt.axis([0, 6, 0, 20])"
   ]
  },
  {
   "cell_type": "code",
   "execution_count": 3,
   "metadata": {},
   "outputs": [],
   "source": [
    "from __future__ import absolute_import, division, print_function, unicode_literals\n",
    "\n",
    "import numpy as np\n",
    "import pandas as pd\n",
    "import matplotlib.pyplot as plt\n",
    "from IPython.display import clear_output\n",
    "from six.moves import urllib\n",
    "\n",
    "import tensorflow.compat.v2.feature_column as fc"
   ]
  },
  {
   "cell_type": "markdown",
   "metadata": {},
   "source": [
    "## Dados"
   ]
  },
  {
   "cell_type": "code",
   "execution_count": 5,
   "metadata": {},
   "outputs": [],
   "source": [
    "# Load dataset.\n",
    "dftrain = pd.read_csv('https://storage.googleapis.com/tf-datasets/titanic/train.csv') # training data\n",
    "dfeval = pd.read_csv('https://storage.googleapis.com/tf-datasets/titanic/eval.csv') # testing data\n",
    "y_train = dftrain.pop('survived') # Tira o y do treino\n",
    "y_eval = dfeval.pop('survived') # Tira o y do teste"
   ]
  },
  {
   "cell_type": "code",
   "execution_count": 6,
   "metadata": {},
   "outputs": [
    {
     "data": {
      "text/plain": [
       "(627, 9)"
      ]
     },
     "execution_count": 6,
     "metadata": {},
     "output_type": "execute_result"
    }
   ],
   "source": [
    "# Formato\n",
    "dftrain.shape"
   ]
  },
  {
   "cell_type": "markdown",
   "metadata": {},
   "source": [
    "## Gráficos básicos"
   ]
  },
  {
   "cell_type": "code",
   "execution_count": 10,
   "metadata": {},
   "outputs": [
    {
     "data": {
      "text/plain": [
       "<AxesSubplot:>"
      ]
     },
     "execution_count": 10,
     "metadata": {},
     "output_type": "execute_result"
    },
    {
     "data": {
      "image/png": "[encoded data removed]",
      "text/plain": [
       "<Figure size 432x288 with 1 Axes>"
      ]
     },
     "metadata": {
      "needs_background": "light"
     },
     "output_type": "display_data"
    }
   ],
   "source": [
    "# Base idade\n",
    "dftrain.age.hist(bins=20)"
   ]
  },
  {
   "cell_type": "code",
   "execution_count": 15,
   "metadata": {},
   "outputs": [
    {
     "data": {
      "text/plain": [
       "<AxesSubplot:>"
      ]
     },
     "execution_count": 15,
     "metadata": {},
     "output_type": "execute_result"
    },
    {
     "data": {
      "image/png": "[encoded data removed]",
      "text/plain": [
       "<Figure size 432x288 with 1 Axes>"
      ]
     },
     "metadata": {
      "needs_background": "light"
     },
     "output_type": "display_data"
    }
   ],
   "source": [
    "# Número de pessoas por sexo\n",
    "dftrain['sex'].value_counts().plot(kind=\"barh\")"
   ]
  },
  {
   "cell_type": "code",
   "execution_count": 14,
   "metadata": {},
   "outputs": [
    {
     "data": {
      "text/plain": [
       "<AxesSubplot:>"
      ]
     },
     "execution_count": 14,
     "metadata": {},
     "output_type": "execute_result"
    },
    {
     "data": {
      "image/png": "[encoded data removed]",
      "text/plain": [
       "<Figure size 432x288 with 1 Axes>"
      ]
     },
     "metadata": {
      "needs_background": "light"
     },
     "output_type": "display_data"
    }
   ],
   "source": [
    "# Número de pessoas por classe\n",
    "dftrain['class'].value_counts().plot(kind=\"barh\")"
   ]
  },
  {
   "cell_type": "code",
   "execution_count": 19,
   "metadata": {},
   "outputs": [
    {
     "data": {
      "text/plain": [
       "Text(0.5, 0, '% survive')"
      ]
     },
     "execution_count": 19,
     "metadata": {},
     "output_type": "execute_result"
    },
    {
     "data": {
      "image/png": "[encoded data removed]",
      "text/plain": [
       "<Figure size 432x288 with 1 Axes>"
      ]
     },
     "metadata": {
      "needs_background": "light"
     },
     "output_type": "display_data"
    }
   ],
   "source": [
    "# Sobrevivente por sexo\n",
    "pd.concat([dftrain, y_train], axis=1).groupby(\"sex\").survived.mean().plot(kind=\"barh\").set_xlabel('% survive')"
   ]
  },
  {
   "cell_type": "markdown",
   "metadata": {},
   "source": [
    "## Separando os dados\n",
    "\n",
    "Dado que temos parâmetros que não são numericos, transformaremos eles em númericos."
   ]
  },
  {
   "cell_type": "code",
   "execution_count": 6,
   "metadata": {},
   "outputs": [
    {
     "name": "stdout",
     "output_type": "stream",
     "text": [
      "[VocabularyListCategoricalColumn(key='sex', vocabulary_list=('male', 'female'), dtype=tf.string, default_value=-1, num_oov_buckets=0), VocabularyListCategoricalColumn(key='n_siblings_spouses', vocabulary_list=(1, 0, 3, 4, 2, 5, 8), dtype=tf.int64, default_value=-1, num_oov_buckets=0), VocabularyListCategoricalColumn(key='parch', vocabulary_list=(0, 1, 2, 5, 3, 4), dtype=tf.int64, default_value=-1, num_oov_buckets=0), VocabularyListCategoricalColumn(key='class', vocabulary_list=('Third', 'First', 'Second'), dtype=tf.string, default_value=-1, num_oov_buckets=0), VocabularyListCategoricalColumn(key='deck', vocabulary_list=('unknown', 'C', 'G', 'A', 'B', 'D', 'F', 'E'), dtype=tf.string, default_value=-1, num_oov_buckets=0), VocabularyListCategoricalColumn(key='embark_town', vocabulary_list=('Southampton', 'Cherbourg', 'Queenstown', 'unknown'), dtype=tf.string, default_value=-1, num_oov_buckets=0), VocabularyListCategoricalColumn(key='alone', vocabulary_list=('n', 'y'), dtype=tf.string, default_value=-1, num_oov_buckets=0), NumericColumn(key='age', shape=(1,), default_value=None, dtype=tf.float32, normalizer_fn=None), NumericColumn(key='fare', shape=(1,), default_value=None, dtype=tf.float32, normalizer_fn=None)]\n"
     ]
    }
   ],
   "source": [
    "Colunas_Categoricas = [\"sex\", \"n_siblings_spouses\", \"parch\", 'class', 'deck',\n",
    "                       'embark_town', 'alone']\n",
    "Colunas_numericas = [\"age\", \"fare\"]\n",
    "\n",
    "Colunas_parametros = list()\n",
    "\n",
    "for nome_parametro in Colunas_Categoricas:\n",
    "    vocabulario = dftrain[nome_parametro].unique() # Tira de dentro de cada coluna os valores únicos\n",
    "    \n",
    "    # Adiciona na lista Colunas_parametros o TENSORFLOW que é a junção do vocabulario e do nome_parametro\n",
    "    Colunas_parametros.append(tf.feature_column.categorical_column_with_vocabulary_list(nome_parametro,vocabulario))\n",
    "    \n",
    "for nome_parametro in Colunas_numericas:\n",
    "    # Adiciona na lista Colunas_parametros o TENSORFLOW que é o nome_parametro\n",
    "    Colunas_parametros.append(tf.feature_column.numeric_column(nome_parametro,dtype=tf.float32))\n",
    "\n",
    "\n",
    "print(Colunas_parametros)"
   ]
  },
  {
   "cell_type": "markdown",
   "metadata": {},
   "source": [
    " Documentação:\n",
    " https://www.tensorflow.org/api_docs/python/tf/feature_column/categorical_column_with_vocabulary_list?version=stable"
   ]
  },
  {
   "cell_type": "markdown",
   "metadata": {},
   "source": [
    "## Treinamento"
   ]
  },
  {
   "cell_type": "markdown",
   "metadata": {},
   "source": [
    "Os dados serão calculados em um lote (batch) de 32, escolhidos aleátoriamente, e vamos apresentar-los dado um certo número de \"epochs\", que consiste em quantas vezes esse lote vai ser calculado.\n",
    "\n",
    "Como os dados estão em dataFrame do pando, temos que passar para dados do Tensorflow (tf.data.Dataset). Para isso, precisamos de uma função de entrada.\n",
    "\n",
    "A função abaixo é direta da documentação do TensoFlow\n",
    "(https://www.tensorflow.org/tutorials/estimator/linear)."
   ]
  },
  {
   "cell_type": "code",
   "execution_count": 13,
   "metadata": {},
   "outputs": [],
   "source": [
    "def faz_input(dado_em_df, rotulos_df, num_epochs=10, shuffle=True, tam_lote=32):\n",
    "    def funcao_entrada(): # Função interna que será devolvida\n",
    "        ds = tf.data.Dataset.from_tensor_slices((dict(dado_em_df), rotulos_df)) # Cria um objeto TensoFlow com os rotulos\n",
    "        \n",
    "        if shuffle: # Se embaralhar for verdadeiro\n",
    "            ds = ds.shuffle(1000) # Reogarniza os dados aleatóriamente\n",
    "        \n",
    "        ds = ds.batch(tam_lote).repeat(num_epochs) # dividi os dados em lotes de 23 e repete a cada num de epochs\n",
    "        return ds # Retorna os dados em lotes\n",
    "\n",
    "    return funcao_entrada # retorna a própria função interna\n",
    "\n",
    "treino_input_fn = faz_input(dftrain, y_train) # Dados já em lote\n",
    "eval_input_fn = faz_input(dfeval, y_eval, num_epochs=1, shuffle=False)"
   ]
  },
  {
   "cell_type": "markdown",
   "metadata": {},
   "source": [
    "## Criando o modelo"
   ]
  },
  {
   "cell_type": "code",
   "execution_count": 10,
   "metadata": {},
   "outputs": [
    {
     "name": "stdout",
     "output_type": "stream",
     "text": [
      "INFO:tensorflow:Using default config.\n",
      "WARNING:tensorflow:Using temporary folder as model directory: C:\\Users\\RIOPHO~1\\AppData\\Local\\Temp\\tmp4znuq6c9\n",
      "INFO:tensorflow:Using config: {'_model_dir': 'C:\\\\Users\\\\RIOPHO~1\\\\AppData\\\\Local\\\\Temp\\\\tmp4znuq6c9', '_tf_random_seed': None, '_save_summary_steps': 100, '_save_checkpoints_steps': None, '_save_checkpoints_secs': 600, '_session_config': allow_soft_placement: true\n",
      "graph_options {\n",
      "  rewrite_options {\n",
      "    meta_optimizer_iterations: ONE\n",
      "  }\n",
      "}\n",
      ", '_keep_checkpoint_max': 5, '_keep_checkpoint_every_n_hours': 10000, '_log_step_count_steps': 100, '_train_distribute': None, '_device_fn': None, '_protocol': None, '_eval_distribute': None, '_experimental_distribute': None, '_experimental_max_worker_delay_secs': None, '_session_creation_timeout_secs': 7200, '_service': None, '_cluster_spec': ClusterSpec({}), '_task_type': 'worker', '_task_id': 0, '_global_id_in_cluster': 0, '_master': '', '_evaluation_master': '', '_is_chief': True, '_num_ps_replicas': 0, '_num_worker_replicas': 1}\n"
     ]
    }
   ],
   "source": [
    "linear_est = tf.estimator.LinearClassifier(feature_columns=Colunas_parametros)\n",
    "# Um estimador linear é cridado com as colunas encontradas em \"SEPARANDO OS DADOS\""
   ]
  },
  {
   "cell_type": "markdown",
   "metadata": {},
   "source": [
    "## Treinando o modelo\n",
    "Só precisa passar os dados para .train"
   ]
  },
  {
   "cell_type": "code",
   "execution_count": 16,
   "metadata": {},
   "outputs": [
    {
     "name": "stdout",
     "output_type": "stream",
     "text": [
      "0.78409094\n"
     ]
    }
   ],
   "source": [
    "linear_est.train(treino_input_fn) # Treina\n",
    "resultado = linear_est.evaluate(eval_input_fn) # Devolve todos as métricas usando os dados de teste\n",
    "\n",
    "clear_output() # limpa a tela\n",
    "print(resultado['accuracy'])"
   ]
  },
  {
   "cell_type": "markdown",
   "metadata": {},
   "source": [
    "O modelo tem acuracia de 78% e pode mudar a cada nova formulação dado que os dados são embaralhados aleatoriamente.\n",
    "\n",
    "Podemos agora prever as chances de sobrevivência das pessoas com .predict\n"
   ]
  },
  {
   "cell_type": "code",
   "execution_count": 18,
   "metadata": {},
   "outputs": [
    {
     "name": "stdout",
     "output_type": "stream",
     "text": [
      "INFO:tensorflow:Calling model_fn.\n",
      "WARNING:tensorflow:Layer linear/linear_model is casting an input tensor from dtype float64 to the layer's dtype of float32, which is new behavior in TensorFlow 2.  The layer has dtype float32 because its dtype defaults to floatx.\n",
      "\n",
      "If you intended to run this layer in float32, you can safely ignore this warning. If in doubt, this warning is likely only an issue if you are porting a TensorFlow 1.X model to TensorFlow 2.\n",
      "\n",
      "To change all layers to have dtype float64 by default, call `tf.keras.backend.set_floatx('float64')`. To change just this layer, pass dtype='float64' to the layer constructor. If you are the author of this layer, you can disable autocasting by passing autocast=False to the base Layer constructor.\n",
      "\n",
      "INFO:tensorflow:Done calling model_fn.\n",
      "INFO:tensorflow:Graph was finalized.\n",
      "INFO:tensorflow:Restoring parameters from C:\\Users\\RIOPHO~1\\AppData\\Local\\Temp\\tmp4znuq6c9\\model.ckpt-600\n",
      "INFO:tensorflow:Running local_init_op.\n",
      "INFO:tensorflow:Done running local_init_op.\n",
      "0.4020985\n"
     ]
    }
   ],
   "source": [
    "resultado = list(linear_est.predict(eval_input_fn))\n",
    "print(resultado[1]['probabilities'][1]) # printa a probabilidade de sobreviver da pessoa 0"
   ]
  },
  {
   "cell_type": "markdown",
   "metadata": {},
   "source": [
    "#### Plotando em gráfico"
   ]
  },
  {
   "cell_type": "code",
   "execution_count": 19,
   "metadata": {},
   "outputs": [
    {
     "name": "stdout",
     "output_type": "stream",
     "text": [
      "INFO:tensorflow:Calling model_fn.\n",
      "WARNING:tensorflow:Layer linear/linear_model is casting an input tensor from dtype float64 to the layer's dtype of float32, which is new behavior in TensorFlow 2.  The layer has dtype float32 because its dtype defaults to floatx.\n",
      "\n",
      "If you intended to run this layer in float32, you can safely ignore this warning. If in doubt, this warning is likely only an issue if you are porting a TensorFlow 1.X model to TensorFlow 2.\n",
      "\n",
      "To change all layers to have dtype float64 by default, call `tf.keras.backend.set_floatx('float64')`. To change just this layer, pass dtype='float64' to the layer constructor. If you are the author of this layer, you can disable autocasting by passing autocast=False to the base Layer constructor.\n",
      "\n",
      "INFO:tensorflow:Done calling model_fn.\n",
      "INFO:tensorflow:Graph was finalized.\n",
      "INFO:tensorflow:Restoring parameters from C:\\Users\\RIOPHO~1\\AppData\\Local\\Temp\\tmp4znuq6c9\\model.ckpt-600\n",
      "INFO:tensorflow:Running local_init_op.\n",
      "INFO:tensorflow:Done running local_init_op.\n"
     ]
    },
    {
     "data": {
      "text/plain": [
       "<AxesSubplot:title={'center':'predicted probabilities'}, ylabel='Frequency'>"
      ]
     },
     "execution_count": 19,
     "metadata": {},
     "output_type": "execute_result"
    },
    {
     "data": {
      "image/png": "[encoded data removed]",
      "text/plain": [
       "<Figure size 432x288 with 1 Axes>"
      ]
     },
     "metadata": {
      "needs_background": "light"
     },
     "output_type": "display_data"
    }
   ],
   "source": [
    "dict_predict = list(linear_est.predict(eval_input_fn))\n",
    "probabilidade = pd.Series([pred['probabilities'][1] for pred in dict_predict])\n",
    "\n",
    "probabilidade.plot(kind='hist', bins=20, title='predicted probabilities')"
   ]
  },
  {
   "cell_type": "markdown",
   "metadata": {},
   "source": [
    "O gráfico mostra que o algoritmo previu mais 70% com baixas chances de sobreviver"
   ]
  },
  {
   "cell_type": "markdown",
   "metadata": {},
   "source": [
    "# Classificação"
   ]
  },
  {
   "cell_type": "markdown",
   "metadata": {},
   "source": [
    "O dado separa flores em 3 espécies. "
   ]
  },
  {
   "cell_type": "code",
   "execution_count": 12,
   "metadata": {},
   "outputs": [],
   "source": [
    "CSV_NOME_COLUNAS = ['SepalLength', 'SepalWidth', 'PetalLength', 'PetalWidth', 'Species']\n",
    "ESPECIES= ['Setosa', 'Versicolor', 'Virginica']"
   ]
  },
  {
   "cell_type": "code",
   "execution_count": 13,
   "metadata": {},
   "outputs": [],
   "source": [
    "caminho_treino = tf.keras.utils.get_file(\n",
    "    \"iris_training.csv\", \"https://storage.googleapis.com/download.tensorflow.org/data/iris_training.csv\")\n",
    "caminho_teste = tf.keras.utils.get_file(\n",
    "    \"iris_test.csv\", \"https://storage.googleapis.com/download.tensorflow.org/data/iris_test.csv\")\n",
    "\n",
    "treino = pd.read_csv(caminho_treino, names=CSV_NOME_COLUNAS, header=0)\n",
    "teste = pd.read_csv(caminho_teste, names=CSV_NOME_COLUNAS, header=0)"
   ]
  },
  {
   "cell_type": "markdown",
   "metadata": {},
   "source": [
    "#### Tiramos a coluna de especie e usamos o resto no treino"
   ]
  },
  {
   "cell_type": "code",
   "execution_count": 13,
   "metadata": {},
   "outputs": [
    {
     "data": {
      "text/html": [
       "<div>\n",
       "<style scoped>\n",
       "    .dataframe tbody tr th:only-of-type {\n",
       "        vertical-align: middle;\n",
       "    }\n",
       "\n",
       "    .dataframe tbody tr th {\n",
       "        vertical-align: top;\n",
       "    }\n",
       "\n",
       "    .dataframe thead th {\n",
       "        text-align: right;\n",
       "    }\n",
       "</style>\n",
       "<table border=\"1\" class=\"dataframe\">\n",
       "  <thead>\n",
       "    <tr style=\"text-align: right;\">\n",
       "      <th></th>\n",
       "      <th>SepalLength</th>\n",
       "      <th>SepalWidth</th>\n",
       "      <th>PetalLength</th>\n",
       "      <th>PetalWidth</th>\n",
       "      <th>Species</th>\n",
       "    </tr>\n",
       "  </thead>\n",
       "  <tbody>\n",
       "    <tr>\n",
       "      <th>0</th>\n",
       "      <td>6.4</td>\n",
       "      <td>2.8</td>\n",
       "      <td>5.6</td>\n",
       "      <td>2.2</td>\n",
       "      <td>2</td>\n",
       "    </tr>\n",
       "    <tr>\n",
       "      <th>1</th>\n",
       "      <td>5.0</td>\n",
       "      <td>2.3</td>\n",
       "      <td>3.3</td>\n",
       "      <td>1.0</td>\n",
       "      <td>1</td>\n",
       "    </tr>\n",
       "    <tr>\n",
       "      <th>2</th>\n",
       "      <td>4.9</td>\n",
       "      <td>2.5</td>\n",
       "      <td>4.5</td>\n",
       "      <td>1.7</td>\n",
       "      <td>2</td>\n",
       "    </tr>\n",
       "    <tr>\n",
       "      <th>3</th>\n",
       "      <td>4.9</td>\n",
       "      <td>3.1</td>\n",
       "      <td>1.5</td>\n",
       "      <td>0.1</td>\n",
       "      <td>0</td>\n",
       "    </tr>\n",
       "    <tr>\n",
       "      <th>4</th>\n",
       "      <td>5.7</td>\n",
       "      <td>3.8</td>\n",
       "      <td>1.7</td>\n",
       "      <td>0.3</td>\n",
       "      <td>0</td>\n",
       "    </tr>\n",
       "  </tbody>\n",
       "</table>\n",
       "</div>"
      ],
      "text/plain": [
       "   SepalLength  SepalWidth  PetalLength  PetalWidth  Species\n",
       "0          6.4         2.8          5.6         2.2        2\n",
       "1          5.0         2.3          3.3         1.0        1\n",
       "2          4.9         2.5          4.5         1.7        2\n",
       "3          4.9         3.1          1.5         0.1        0\n",
       "4          5.7         3.8          1.7         0.3        0"
      ]
     },
     "execution_count": 13,
     "metadata": {},
     "output_type": "execute_result"
    }
   ],
   "source": [
    "treino.head()"
   ]
  },
  {
   "cell_type": "code",
   "execution_count": 14,
   "metadata": {},
   "outputs": [
    {
     "data": {
      "text/html": [
       "<div>\n",
       "<style scoped>\n",
       "    .dataframe tbody tr th:only-of-type {\n",
       "        vertical-align: middle;\n",
       "    }\n",
       "\n",
       "    .dataframe tbody tr th {\n",
       "        vertical-align: top;\n",
       "    }\n",
       "\n",
       "    .dataframe thead th {\n",
       "        text-align: right;\n",
       "    }\n",
       "</style>\n",
       "<table border=\"1\" class=\"dataframe\">\n",
       "  <thead>\n",
       "    <tr style=\"text-align: right;\">\n",
       "      <th></th>\n",
       "      <th>SepalLength</th>\n",
       "      <th>SepalWidth</th>\n",
       "      <th>PetalLength</th>\n",
       "      <th>PetalWidth</th>\n",
       "    </tr>\n",
       "  </thead>\n",
       "  <tbody>\n",
       "    <tr>\n",
       "      <th>0</th>\n",
       "      <td>6.4</td>\n",
       "      <td>2.8</td>\n",
       "      <td>5.6</td>\n",
       "      <td>2.2</td>\n",
       "    </tr>\n",
       "    <tr>\n",
       "      <th>1</th>\n",
       "      <td>5.0</td>\n",
       "      <td>2.3</td>\n",
       "      <td>3.3</td>\n",
       "      <td>1.0</td>\n",
       "    </tr>\n",
       "    <tr>\n",
       "      <th>2</th>\n",
       "      <td>4.9</td>\n",
       "      <td>2.5</td>\n",
       "      <td>4.5</td>\n",
       "      <td>1.7</td>\n",
       "    </tr>\n",
       "    <tr>\n",
       "      <th>3</th>\n",
       "      <td>4.9</td>\n",
       "      <td>3.1</td>\n",
       "      <td>1.5</td>\n",
       "      <td>0.1</td>\n",
       "    </tr>\n",
       "    <tr>\n",
       "      <th>4</th>\n",
       "      <td>5.7</td>\n",
       "      <td>3.8</td>\n",
       "      <td>1.7</td>\n",
       "      <td>0.3</td>\n",
       "    </tr>\n",
       "  </tbody>\n",
       "</table>\n",
       "</div>"
      ],
      "text/plain": [
       "   SepalLength  SepalWidth  PetalLength  PetalWidth\n",
       "0          6.4         2.8          5.6         2.2\n",
       "1          5.0         2.3          3.3         1.0\n",
       "2          4.9         2.5          4.5         1.7\n",
       "3          4.9         3.1          1.5         0.1\n",
       "4          5.7         3.8          1.7         0.3"
      ]
     },
     "execution_count": 14,
     "metadata": {},
     "output_type": "execute_result"
    }
   ],
   "source": [
    "treino_y = treino.pop(\"Species\")\n",
    "teste_y = teste.pop(\"Species\") # teste_y são os labels\n",
    "treino.head()"
   ]
  },
  {
   "cell_type": "markdown",
   "metadata": {},
   "source": [
    "## Função input - passando os dados de DataFrame pandas para TensorFlow"
   ]
  },
  {
   "cell_type": "code",
   "execution_count": 15,
   "metadata": {},
   "outputs": [],
   "source": [
    "def input_fn(dado_em_df, rotulos_df, training=True, batch_size=256):\n",
    "    # Converte para dataset tensorflow\n",
    "    dataset = tf.data.Dataset.from_tensor_slices((dict(dado_em_df), rotulos_df))\n",
    "\n",
    "    # Shuffle and repeat if you are in training mode.\n",
    "    if training:\n",
    "        dataset = dataset.shuffle(1000).repeat()\n",
    "    \n",
    "    return dataset.batch(batch_size)"
   ]
  },
  {
   "cell_type": "markdown",
   "metadata": {},
   "source": [
    "## Passando as colunas parâmetros"
   ]
  },
  {
   "cell_type": "code",
   "execution_count": 16,
   "metadata": {},
   "outputs": [
    {
     "name": "stdout",
     "output_type": "stream",
     "text": [
      "[NumericColumn(key='SepalLength', shape=(1,), default_value=None, dtype=tf.float32, normalizer_fn=None), NumericColumn(key='SepalWidth', shape=(1,), default_value=None, dtype=tf.float32, normalizer_fn=None), NumericColumn(key='PetalLength', shape=(1,), default_value=None, dtype=tf.float32, normalizer_fn=None), NumericColumn(key='PetalWidth', shape=(1,), default_value=None, dtype=tf.float32, normalizer_fn=None)]\n"
     ]
    }
   ],
   "source": [
    "# Essas colunas dirão como usar o input.\n",
    "Colunas_parametros = []\n",
    "for chave in treino.keys():\n",
    "    Colunas_parametros.append(tf.feature_column.numeric_column(key=chave))\n",
    "print(Colunas_parametros)"
   ]
  },
  {
   "cell_type": "markdown",
   "metadata": {},
   "source": [
    "## Construindo o modelo"
   ]
  },
  {
   "cell_type": "markdown",
   "metadata": {},
   "source": [
    "Usares uma rede neural de 2 camadas escondidas com 30 e 10 unidades cada e a ultima com 3"
   ]
  },
  {
   "cell_type": "code",
   "execution_count": 20,
   "metadata": {},
   "outputs": [
    {
     "name": "stdout",
     "output_type": "stream",
     "text": [
      "INFO:tensorflow:Using default config.\n",
      "WARNING:tensorflow:Using temporary folder as model directory: C:\\Users\\RIOPHO~1\\AppData\\Local\\Temp\\tmp2y2_qmcx\n",
      "INFO:tensorflow:Using config: {'_model_dir': 'C:\\\\Users\\\\RIOPHO~1\\\\AppData\\\\Local\\\\Temp\\\\tmp2y2_qmcx', '_tf_random_seed': None, '_save_summary_steps': 100, '_save_checkpoints_steps': None, '_save_checkpoints_secs': 600, '_session_config': allow_soft_placement: true\n",
      "graph_options {\n",
      "  rewrite_options {\n",
      "    meta_optimizer_iterations: ONE\n",
      "  }\n",
      "}\n",
      ", '_keep_checkpoint_max': 5, '_keep_checkpoint_every_n_hours': 10000, '_log_step_count_steps': 100, '_train_distribute': None, '_device_fn': None, '_protocol': None, '_eval_distribute': None, '_experimental_distribute': None, '_experimental_max_worker_delay_secs': None, '_session_creation_timeout_secs': 7200, '_service': None, '_cluster_spec': ClusterSpec({}), '_task_type': 'worker', '_task_id': 0, '_global_id_in_cluster': 0, '_master': '', '_evaluation_master': '', '_is_chief': True, '_num_ps_replicas': 0, '_num_worker_replicas': 1}\n"
     ]
    }
   ],
   "source": [
    "classificador = tf.estimator.DNNClassifier(\n",
    "    feature_columns = Colunas_parametros, hidden_units=[40, 15],\n",
    "    # Número de outputs/saidas\n",
    "    n_classes=3)"
   ]
  },
  {
   "cell_type": "markdown",
   "metadata": {},
   "source": [
    "## Treinando"
   ]
  },
  {
   "cell_type": "code",
   "execution_count": 21,
   "metadata": {},
   "outputs": [
    {
     "name": "stdout",
     "output_type": "stream",
     "text": [
      "INFO:tensorflow:Calling model_fn.\n",
      "WARNING:tensorflow:Layer dnn is casting an input tensor from dtype float64 to the layer's dtype of float32, which is new behavior in TensorFlow 2.  The layer has dtype float32 because its dtype defaults to floatx.\n",
      "\n",
      "If you intended to run this layer in float32, you can safely ignore this warning. If in doubt, this warning is likely only an issue if you are porting a TensorFlow 1.X model to TensorFlow 2.\n",
      "\n",
      "To change all layers to have dtype float64 by default, call `tf.keras.backend.set_floatx('float64')`. To change just this layer, pass dtype='float64' to the layer constructor. If you are the author of this layer, you can disable autocasting by passing autocast=False to the base Layer constructor.\n",
      "\n",
      "INFO:tensorflow:Done calling model_fn.\n",
      "INFO:tensorflow:Create CheckpointSaverHook.\n",
      "INFO:tensorflow:Graph was finalized.\n",
      "INFO:tensorflow:Running local_init_op.\n",
      "INFO:tensorflow:Done running local_init_op.\n",
      "INFO:tensorflow:Calling checkpoint listeners before saving checkpoint 0...\n",
      "INFO:tensorflow:Saving checkpoints for 0 into C:\\Users\\RIOPHO~1\\AppData\\Local\\Temp\\tmp2y2_qmcx\\model.ckpt.\n",
      "INFO:tensorflow:Calling checkpoint listeners after saving checkpoint 0...\n",
      "INFO:tensorflow:loss = 1.281146, step = 0\n",
      "INFO:tensorflow:global_step/sec: 132.453\n",
      "INFO:tensorflow:loss = 0.96295094, step = 100 (0.759 sec)\n",
      "INFO:tensorflow:global_step/sec: 177.316\n",
      "INFO:tensorflow:loss = 0.8990729, step = 200 (0.566 sec)\n",
      "INFO:tensorflow:global_step/sec: 169.941\n",
      "INFO:tensorflow:loss = 0.86556435, step = 300 (0.591 sec)\n",
      "INFO:tensorflow:global_step/sec: 174.293\n",
      "INFO:tensorflow:loss = 0.8434261, step = 400 (0.570 sec)\n",
      "INFO:tensorflow:global_step/sec: 163.635\n",
      "INFO:tensorflow:loss = 0.812287, step = 500 (0.619 sec)\n",
      "INFO:tensorflow:global_step/sec: 151.492\n",
      "INFO:tensorflow:loss = 0.7919448, step = 600 (0.657 sec)\n",
      "INFO:tensorflow:global_step/sec: 181.885\n",
      "INFO:tensorflow:loss = 0.79237366, step = 700 (0.554 sec)\n",
      "INFO:tensorflow:global_step/sec: 165.522\n",
      "INFO:tensorflow:loss = 0.7629621, step = 800 (0.596 sec)\n",
      "INFO:tensorflow:global_step/sec: 175.494\n",
      "INFO:tensorflow:loss = 0.7477174, step = 900 (0.569 sec)\n",
      "INFO:tensorflow:global_step/sec: 171.563\n",
      "INFO:tensorflow:loss = 0.7195441, step = 1000 (0.582 sec)\n",
      "INFO:tensorflow:global_step/sec: 168.702\n",
      "INFO:tensorflow:loss = 0.7007004, step = 1100 (0.605 sec)\n",
      "INFO:tensorflow:global_step/sec: 172.342\n",
      "INFO:tensorflow:loss = 0.69383824, step = 1200 (0.581 sec)\n",
      "INFO:tensorflow:global_step/sec: 166.884\n",
      "INFO:tensorflow:loss = 0.68970966, step = 1300 (0.587 sec)\n",
      "INFO:tensorflow:global_step/sec: 174.185\n",
      "INFO:tensorflow:loss = 0.6706455, step = 1400 (0.574 sec)\n",
      "INFO:tensorflow:global_step/sec: 162.117\n",
      "INFO:tensorflow:loss = 0.65276563, step = 1500 (0.620 sec)\n",
      "INFO:tensorflow:global_step/sec: 171.059\n",
      "INFO:tensorflow:loss = 0.64497983, step = 1600 (0.581 sec)\n",
      "INFO:tensorflow:global_step/sec: 176.067\n",
      "INFO:tensorflow:loss = 0.6211443, step = 1700 (0.569 sec)\n",
      "INFO:tensorflow:global_step/sec: 167.421\n",
      "INFO:tensorflow:loss = 0.6160672, step = 1800 (0.600 sec)\n",
      "INFO:tensorflow:global_step/sec: 178.538\n",
      "INFO:tensorflow:loss = 0.59892154, step = 1900 (0.563 sec)\n",
      "INFO:tensorflow:global_step/sec: 166.663\n",
      "INFO:tensorflow:loss = 0.5862347, step = 2000 (0.593 sec)\n",
      "INFO:tensorflow:global_step/sec: 165.278\n",
      "INFO:tensorflow:loss = 0.5795606, step = 2100 (0.645 sec)\n",
      "INFO:tensorflow:global_step/sec: 159.995\n",
      "INFO:tensorflow:loss = 0.55595255, step = 2200 (0.585 sec)\n",
      "INFO:tensorflow:global_step/sec: 158.516\n",
      "INFO:tensorflow:loss = 0.5611567, step = 2300 (0.631 sec)\n",
      "INFO:tensorflow:global_step/sec: 162.904\n",
      "INFO:tensorflow:loss = 0.54994977, step = 2400 (0.617 sec)\n",
      "INFO:tensorflow:global_step/sec: 164.645\n",
      "INFO:tensorflow:loss = 0.5428829, step = 2500 (0.605 sec)\n",
      "INFO:tensorflow:global_step/sec: 173.101\n",
      "INFO:tensorflow:loss = 0.534023, step = 2600 (0.579 sec)\n",
      "INFO:tensorflow:global_step/sec: 178.556\n",
      "INFO:tensorflow:loss = 0.52696824, step = 2700 (0.562 sec)\n",
      "INFO:tensorflow:global_step/sec: 140.041\n",
      "INFO:tensorflow:loss = 0.5203395, step = 2800 (0.716 sec)\n",
      "INFO:tensorflow:global_step/sec: 154.098\n",
      "INFO:tensorflow:loss = 0.50456476, step = 2900 (0.646 sec)\n",
      "INFO:tensorflow:global_step/sec: 157.739\n",
      "INFO:tensorflow:loss = 0.50475246, step = 3000 (0.635 sec)\n",
      "INFO:tensorflow:global_step/sec: 165.741\n",
      "INFO:tensorflow:loss = 0.48695534, step = 3100 (0.607 sec)\n",
      "INFO:tensorflow:global_step/sec: 157.453\n",
      "INFO:tensorflow:loss = 0.49481225, step = 3200 (0.628 sec)\n",
      "INFO:tensorflow:global_step/sec: 168.078\n",
      "INFO:tensorflow:loss = 0.47976214, step = 3300 (0.596 sec)\n",
      "INFO:tensorflow:global_step/sec: 171.097\n",
      "INFO:tensorflow:loss = 0.46506214, step = 3400 (0.585 sec)\n",
      "INFO:tensorflow:global_step/sec: 176.915\n",
      "INFO:tensorflow:loss = 0.4729374, step = 3500 (0.572 sec)\n",
      "INFO:tensorflow:global_step/sec: 170.015\n",
      "INFO:tensorflow:loss = 0.46268284, step = 3600 (0.583 sec)\n",
      "INFO:tensorflow:global_step/sec: 178.583\n",
      "INFO:tensorflow:loss = 0.45248294, step = 3700 (0.557 sec)\n",
      "INFO:tensorflow:global_step/sec: 166.4\n",
      "INFO:tensorflow:loss = 0.4496006, step = 3800 (0.618 sec)\n",
      "INFO:tensorflow:global_step/sec: 170.693\n",
      "INFO:tensorflow:loss = 0.4429635, step = 3900 (0.571 sec)\n",
      "INFO:tensorflow:global_step/sec: 165.245\n",
      "INFO:tensorflow:loss = 0.42888993, step = 4000 (0.612 sec)\n",
      "INFO:tensorflow:global_step/sec: 164.955\n",
      "INFO:tensorflow:loss = 0.4337693, step = 4100 (0.605 sec)\n",
      "INFO:tensorflow:global_step/sec: 168.362\n",
      "INFO:tensorflow:loss = 0.43788677, step = 4200 (0.589 sec)\n",
      "INFO:tensorflow:global_step/sec: 169.789\n",
      "INFO:tensorflow:loss = 0.4326166, step = 4300 (0.587 sec)\n",
      "INFO:tensorflow:global_step/sec: 161.823\n",
      "INFO:tensorflow:loss = 0.41664168, step = 4400 (0.621 sec)\n",
      "INFO:tensorflow:global_step/sec: 154.561\n",
      "INFO:tensorflow:loss = 0.41788656, step = 4500 (0.645 sec)\n",
      "INFO:tensorflow:global_step/sec: 172.426\n",
      "INFO:tensorflow:loss = 0.4122474, step = 4600 (0.579 sec)\n",
      "INFO:tensorflow:global_step/sec: 171.538\n",
      "INFO:tensorflow:loss = 0.41921753, step = 4700 (0.583 sec)\n",
      "INFO:tensorflow:global_step/sec: 177.737\n",
      "INFO:tensorflow:loss = 0.39546674, step = 4800 (0.573 sec)\n",
      "INFO:tensorflow:global_step/sec: 164.639\n",
      "INFO:tensorflow:loss = 0.4073278, step = 4900 (0.602 sec)\n",
      "INFO:tensorflow:global_step/sec: 161.514\n",
      "INFO:tensorflow:loss = 0.38707483, step = 5000 (0.614 sec)\n",
      "INFO:tensorflow:global_step/sec: 177.45\n",
      "INFO:tensorflow:loss = 0.38723296, step = 5100 (0.572 sec)\n",
      "INFO:tensorflow:global_step/sec: 168.162\n",
      "INFO:tensorflow:loss = 0.4009137, step = 5200 (0.592 sec)\n",
      "INFO:tensorflow:global_step/sec: 171.912\n",
      "INFO:tensorflow:loss = 0.39631352, step = 5300 (0.576 sec)\n",
      "INFO:tensorflow:global_step/sec: 174.209\n",
      "INFO:tensorflow:loss = 0.37982684, step = 5400 (0.573 sec)\n",
      "INFO:tensorflow:global_step/sec: 165.302\n",
      "INFO:tensorflow:loss = 0.3733576, step = 5500 (0.608 sec)\n",
      "INFO:tensorflow:global_step/sec: 171.946\n",
      "INFO:tensorflow:loss = 0.37680852, step = 5600 (0.579 sec)\n",
      "INFO:tensorflow:global_step/sec: 170.951\n",
      "INFO:tensorflow:loss = 0.35578763, step = 5700 (0.585 sec)\n",
      "INFO:tensorflow:global_step/sec: 169.956\n",
      "INFO:tensorflow:loss = 0.3572563, step = 5800 (0.600 sec)\n",
      "INFO:tensorflow:global_step/sec: 172.342\n",
      "INFO:tensorflow:loss = 0.34802052, step = 5900 (0.578 sec)\n",
      "INFO:tensorflow:global_step/sec: 166.789\n",
      "INFO:tensorflow:loss = 0.35366318, step = 6000 (0.622 sec)\n",
      "INFO:tensorflow:global_step/sec: 163.237\n",
      "INFO:tensorflow:loss = 0.3501928, step = 6100 (0.582 sec)\n",
      "INFO:tensorflow:global_step/sec: 172.271\n",
      "INFO:tensorflow:loss = 0.3523463, step = 6200 (0.580 sec)\n",
      "INFO:tensorflow:global_step/sec: 173.283\n",
      "INFO:tensorflow:loss = 0.34251076, step = 6300 (0.579 sec)\n",
      "INFO:tensorflow:global_step/sec: 169.437\n",
      "INFO:tensorflow:loss = 0.32808456, step = 6400 (0.592 sec)\n",
      "INFO:tensorflow:global_step/sec: 166.681\n",
      "INFO:tensorflow:loss = 0.33582798, step = 6500 (0.599 sec)\n",
      "INFO:tensorflow:global_step/sec: 159.368\n",
      "INFO:tensorflow:loss = 0.33379817, step = 6600 (0.623 sec)\n",
      "INFO:tensorflow:global_step/sec: 162.085\n",
      "INFO:tensorflow:loss = 0.33430418, step = 6700 (0.618 sec)\n",
      "INFO:tensorflow:global_step/sec: 170.855\n",
      "INFO:tensorflow:loss = 0.3226933, step = 6800 (0.603 sec)\n",
      "INFO:tensorflow:global_step/sec: 170.903\n",
      "INFO:tensorflow:loss = 0.32057098, step = 6900 (0.567 sec)\n",
      "INFO:tensorflow:global_step/sec: 168.505\n",
      "INFO:tensorflow:loss = 0.31609944, step = 7000 (0.596 sec)\n"
     ]
    },
    {
     "name": "stdout",
     "output_type": "stream",
     "text": [
      "INFO:tensorflow:global_step/sec: 171.244\n",
      "INFO:tensorflow:loss = 0.31714243, step = 7100 (0.582 sec)\n",
      "INFO:tensorflow:global_step/sec: 167.234\n",
      "INFO:tensorflow:loss = 0.3098395, step = 7200 (0.598 sec)\n",
      "INFO:tensorflow:global_step/sec: 162.613\n",
      "INFO:tensorflow:loss = 0.3280081, step = 7300 (0.616 sec)\n",
      "INFO:tensorflow:global_step/sec: 175.448\n",
      "INFO:tensorflow:loss = 0.31432888, step = 7400 (0.586 sec)\n",
      "INFO:tensorflow:global_step/sec: 166.401\n",
      "INFO:tensorflow:loss = 0.30517662, step = 7500 (0.584 sec)\n",
      "INFO:tensorflow:global_step/sec: 167.048\n",
      "INFO:tensorflow:loss = 0.3042382, step = 7600 (0.605 sec)\n",
      "INFO:tensorflow:global_step/sec: 170.841\n",
      "INFO:tensorflow:loss = 0.29723954, step = 7700 (0.582 sec)\n",
      "INFO:tensorflow:global_step/sec: 168.964\n",
      "INFO:tensorflow:loss = 0.30192575, step = 7800 (0.587 sec)\n",
      "INFO:tensorflow:global_step/sec: 173.622\n",
      "INFO:tensorflow:loss = 0.2957207, step = 7900 (0.580 sec)\n",
      "INFO:tensorflow:global_step/sec: 165.027\n",
      "INFO:tensorflow:loss = 0.29730302, step = 8000 (0.604 sec)\n",
      "INFO:tensorflow:global_step/sec: 165.3\n",
      "INFO:tensorflow:loss = 0.28602946, step = 8100 (0.609 sec)\n",
      "INFO:tensorflow:global_step/sec: 139.631\n",
      "INFO:tensorflow:loss = 0.3003631, step = 8200 (0.721 sec)\n",
      "INFO:tensorflow:global_step/sec: 154.367\n",
      "INFO:tensorflow:loss = 0.2876338, step = 8300 (0.639 sec)\n",
      "INFO:tensorflow:global_step/sec: 165.299\n",
      "INFO:tensorflow:loss = 0.2843513, step = 8400 (0.610 sec)\n",
      "INFO:tensorflow:global_step/sec: 169.216\n",
      "INFO:tensorflow:loss = 0.28324476, step = 8500 (0.588 sec)\n",
      "INFO:tensorflow:global_step/sec: 166.284\n",
      "INFO:tensorflow:loss = 0.27065235, step = 8600 (0.604 sec)\n",
      "INFO:tensorflow:global_step/sec: 157.104\n",
      "INFO:tensorflow:loss = 0.27853578, step = 8700 (0.632 sec)\n",
      "INFO:tensorflow:global_step/sec: 162.111\n",
      "INFO:tensorflow:loss = 0.27926397, step = 8800 (0.615 sec)\n",
      "INFO:tensorflow:global_step/sec: 169.041\n",
      "INFO:tensorflow:loss = 0.27059543, step = 8900 (0.591 sec)\n",
      "INFO:tensorflow:global_step/sec: 173.622\n",
      "INFO:tensorflow:loss = 0.2713835, step = 9000 (0.576 sec)\n",
      "INFO:tensorflow:global_step/sec: 168.458\n",
      "INFO:tensorflow:loss = 0.25362206, step = 9100 (0.594 sec)\n",
      "INFO:tensorflow:global_step/sec: 174.386\n",
      "INFO:tensorflow:loss = 0.2571607, step = 9200 (0.575 sec)\n",
      "INFO:tensorflow:global_step/sec: 155.885\n",
      "INFO:tensorflow:loss = 0.26150718, step = 9300 (0.640 sec)\n",
      "INFO:tensorflow:global_step/sec: 180.864\n",
      "INFO:tensorflow:loss = 0.25176024, step = 9400 (0.556 sec)\n",
      "INFO:tensorflow:global_step/sec: 173.131\n",
      "INFO:tensorflow:loss = 0.2667613, step = 9500 (0.580 sec)\n",
      "INFO:tensorflow:global_step/sec: 175.87\n",
      "INFO:tensorflow:loss = 0.25794375, step = 9600 (0.563 sec)\n",
      "INFO:tensorflow:global_step/sec: 169.209\n",
      "INFO:tensorflow:loss = 0.25195175, step = 9700 (0.598 sec)\n",
      "INFO:tensorflow:global_step/sec: 171.654\n",
      "INFO:tensorflow:loss = 0.25073567, step = 9800 (0.582 sec)\n",
      "INFO:tensorflow:global_step/sec: 165.573\n",
      "INFO:tensorflow:loss = 0.25132772, step = 9900 (0.599 sec)\n",
      "INFO:tensorflow:global_step/sec: 157.738\n",
      "INFO:tensorflow:loss = 0.25188774, step = 10000 (0.632 sec)\n",
      "INFO:tensorflow:global_step/sec: 175.521\n",
      "INFO:tensorflow:loss = 0.24485236, step = 10100 (0.576 sec)\n",
      "INFO:tensorflow:global_step/sec: 155.097\n",
      "INFO:tensorflow:loss = 0.2482222, step = 10200 (0.648 sec)\n",
      "INFO:tensorflow:global_step/sec: 138.599\n",
      "INFO:tensorflow:loss = 0.24054351, step = 10300 (0.712 sec)\n",
      "INFO:tensorflow:global_step/sec: 151.291\n",
      "INFO:tensorflow:loss = 0.22897474, step = 10400 (0.661 sec)\n",
      "INFO:tensorflow:global_step/sec: 149.936\n",
      "INFO:tensorflow:loss = 0.24384134, step = 10500 (0.668 sec)\n",
      "INFO:tensorflow:global_step/sec: 170.741\n",
      "INFO:tensorflow:loss = 0.22589517, step = 10600 (0.592 sec)\n",
      "INFO:tensorflow:global_step/sec: 173.057\n",
      "INFO:tensorflow:loss = 0.23251572, step = 10700 (0.570 sec)\n",
      "INFO:tensorflow:global_step/sec: 163.945\n",
      "INFO:tensorflow:loss = 0.23448579, step = 10800 (0.610 sec)\n",
      "INFO:tensorflow:global_step/sec: 170.262\n",
      "INFO:tensorflow:loss = 0.22615407, step = 10900 (0.591 sec)\n",
      "INFO:tensorflow:global_step/sec: 162.64\n",
      "INFO:tensorflow:loss = 0.22988352, step = 11000 (0.615 sec)\n",
      "INFO:tensorflow:global_step/sec: 162.897\n",
      "INFO:tensorflow:loss = 0.229767, step = 11100 (0.616 sec)\n",
      "INFO:tensorflow:global_step/sec: 176.665\n",
      "INFO:tensorflow:loss = 0.22615309, step = 11200 (0.566 sec)\n",
      "INFO:tensorflow:global_step/sec: 169.505\n",
      "INFO:tensorflow:loss = 0.2263125, step = 11300 (0.592 sec)\n",
      "INFO:tensorflow:global_step/sec: 165.292\n",
      "INFO:tensorflow:loss = 0.22368446, step = 11400 (0.603 sec)\n",
      "INFO:tensorflow:global_step/sec: 166.124\n",
      "INFO:tensorflow:loss = 0.22035104, step = 11500 (0.597 sec)\n",
      "INFO:tensorflow:global_step/sec: 171.409\n",
      "INFO:tensorflow:loss = 0.2141446, step = 11600 (0.589 sec)\n",
      "INFO:tensorflow:global_step/sec: 167.412\n",
      "INFO:tensorflow:loss = 0.21961617, step = 11700 (0.590 sec)\n",
      "INFO:tensorflow:global_step/sec: 162.697\n",
      "INFO:tensorflow:loss = 0.2112326, step = 11800 (0.617 sec)\n",
      "INFO:tensorflow:global_step/sec: 130.557\n",
      "INFO:tensorflow:loss = 0.22134063, step = 11900 (0.825 sec)\n",
      "INFO:tensorflow:global_step/sec: 103.048\n",
      "INFO:tensorflow:loss = 0.2112628, step = 12000 (0.911 sec)\n",
      "INFO:tensorflow:global_step/sec: 158.731\n",
      "INFO:tensorflow:loss = 0.20574853, step = 12100 (0.629 sec)\n",
      "INFO:tensorflow:global_step/sec: 141.419\n",
      "INFO:tensorflow:loss = 0.21020047, step = 12200 (0.710 sec)\n",
      "INFO:tensorflow:global_step/sec: 159.303\n",
      "INFO:tensorflow:loss = 0.208166, step = 12300 (0.624 sec)\n",
      "INFO:tensorflow:global_step/sec: 143.687\n",
      "INFO:tensorflow:loss = 0.20773724, step = 12400 (0.700 sec)\n",
      "INFO:tensorflow:global_step/sec: 74.244\n",
      "INFO:tensorflow:loss = 0.19755057, step = 12500 (1.345 sec)\n",
      "INFO:tensorflow:global_step/sec: 117.924\n",
      "INFO:tensorflow:loss = 0.20549196, step = 12600 (0.848 sec)\n",
      "INFO:tensorflow:global_step/sec: 134.409\n",
      "INFO:tensorflow:loss = 0.20290573, step = 12700 (0.745 sec)\n",
      "INFO:tensorflow:global_step/sec: 143.07\n",
      "INFO:tensorflow:loss = 0.20561385, step = 12800 (0.706 sec)\n",
      "INFO:tensorflow:global_step/sec: 141.25\n",
      "INFO:tensorflow:loss = 0.20284185, step = 12900 (0.701 sec)\n",
      "INFO:tensorflow:global_step/sec: 146.784\n",
      "INFO:tensorflow:loss = 0.2061601, step = 13000 (0.680 sec)\n",
      "INFO:tensorflow:global_step/sec: 159.639\n",
      "INFO:tensorflow:loss = 0.20167468, step = 13100 (0.626 sec)\n",
      "INFO:tensorflow:global_step/sec: 143.215\n",
      "INFO:tensorflow:loss = 0.19626538, step = 13200 (0.696 sec)\n",
      "INFO:tensorflow:global_step/sec: 163.315\n",
      "INFO:tensorflow:loss = 0.1794189, step = 13300 (0.613 sec)\n",
      "INFO:tensorflow:global_step/sec: 102.815\n",
      "INFO:tensorflow:loss = 0.1995222, step = 13400 (0.981 sec)\n",
      "INFO:tensorflow:global_step/sec: 140.656\n",
      "INFO:tensorflow:loss = 0.19357535, step = 13500 (0.703 sec)\n",
      "INFO:tensorflow:global_step/sec: 114.95\n",
      "INFO:tensorflow:loss = 0.19170417, step = 13600 (0.927 sec)\n",
      "INFO:tensorflow:global_step/sec: 117.654\n",
      "INFO:tensorflow:loss = 0.19946718, step = 13700 (0.793 sec)\n",
      "INFO:tensorflow:global_step/sec: 137.56\n",
      "INFO:tensorflow:loss = 0.18739584, step = 13800 (0.728 sec)\n",
      "INFO:tensorflow:global_step/sec: 156.501\n",
      "INFO:tensorflow:loss = 0.1961687, step = 13900 (0.641 sec)\n",
      "INFO:tensorflow:global_step/sec: 151.754\n",
      "INFO:tensorflow:loss = 0.18337095, step = 14000 (0.658 sec)\n",
      "INFO:tensorflow:global_step/sec: 153.513\n",
      "INFO:tensorflow:loss = 0.18259174, step = 14100 (0.648 sec)\n",
      "INFO:tensorflow:global_step/sec: 162.877\n",
      "INFO:tensorflow:loss = 0.1804174, step = 14200 (0.625 sec)\n",
      "INFO:tensorflow:global_step/sec: 155.476\n",
      "INFO:tensorflow:loss = 0.18416142, step = 14300 (0.634 sec)\n",
      "INFO:tensorflow:global_step/sec: 157.49\n",
      "INFO:tensorflow:loss = 0.18086348, step = 14400 (0.638 sec)\n",
      "INFO:tensorflow:global_step/sec: 129.71\n",
      "INFO:tensorflow:loss = 0.17484246, step = 14500 (0.774 sec)\n",
      "INFO:tensorflow:global_step/sec: 147.72\n",
      "INFO:tensorflow:loss = 0.17982677, step = 14600 (0.670 sec)\n",
      "INFO:tensorflow:global_step/sec: 119.911\n",
      "INFO:tensorflow:loss = 0.17968048, step = 14700 (0.842 sec)\n",
      "INFO:tensorflow:global_step/sec: 145.148\n",
      "INFO:tensorflow:loss = 0.1813567, step = 14800 (0.681 sec)\n",
      "INFO:tensorflow:global_step/sec: 93.2895\n",
      "INFO:tensorflow:loss = 0.17750324, step = 14900 (1.076 sec)\n",
      "INFO:tensorflow:global_step/sec: 109.177\n",
      "INFO:tensorflow:loss = 0.1766755, step = 15000 (0.921 sec)\n",
      "INFO:tensorflow:global_step/sec: 97.7616\n",
      "INFO:tensorflow:loss = 0.16581675, step = 15100 (1.021 sec)\n",
      "INFO:tensorflow:global_step/sec: 151.543\n",
      "INFO:tensorflow:loss = 0.17359458, step = 15200 (0.653 sec)\n"
     ]
    },
    {
     "name": "stdout",
     "output_type": "stream",
     "text": [
      "INFO:tensorflow:global_step/sec: 151.101\n",
      "INFO:tensorflow:loss = 0.17222068, step = 15300 (0.663 sec)\n",
      "INFO:tensorflow:global_step/sec: 156.504\n",
      "INFO:tensorflow:loss = 0.16938433, step = 15400 (0.638 sec)\n",
      "INFO:tensorflow:global_step/sec: 171.742\n",
      "INFO:tensorflow:loss = 0.17380793, step = 15500 (0.585 sec)\n",
      "INFO:tensorflow:global_step/sec: 166.981\n",
      "INFO:tensorflow:loss = 0.17669755, step = 15600 (0.600 sec)\n",
      "INFO:tensorflow:global_step/sec: 165.169\n",
      "INFO:tensorflow:loss = 0.15781832, step = 15700 (0.601 sec)\n",
      "INFO:tensorflow:global_step/sec: 163.677\n",
      "INFO:tensorflow:loss = 0.16509083, step = 15800 (0.612 sec)\n",
      "INFO:tensorflow:global_step/sec: 176.378\n",
      "INFO:tensorflow:loss = 0.1688064, step = 15900 (0.566 sec)\n",
      "INFO:tensorflow:global_step/sec: 173.025\n",
      "INFO:tensorflow:loss = 0.1639197, step = 16000 (0.588 sec)\n",
      "INFO:tensorflow:global_step/sec: 178.498\n",
      "INFO:tensorflow:loss = 0.16379401, step = 16100 (0.554 sec)\n",
      "INFO:tensorflow:global_step/sec: 170.998\n",
      "INFO:tensorflow:loss = 0.16293645, step = 16200 (0.580 sec)\n",
      "INFO:tensorflow:global_step/sec: 180.181\n",
      "INFO:tensorflow:loss = 0.16110471, step = 16300 (0.563 sec)\n",
      "INFO:tensorflow:global_step/sec: 178.532\n",
      "INFO:tensorflow:loss = 0.15978155, step = 16400 (0.561 sec)\n",
      "INFO:tensorflow:global_step/sec: 155.611\n",
      "INFO:tensorflow:loss = 0.15755455, step = 16500 (0.642 sec)\n",
      "INFO:tensorflow:global_step/sec: 156.016\n",
      "INFO:tensorflow:loss = 0.166105, step = 16600 (0.633 sec)\n",
      "INFO:tensorflow:global_step/sec: 165.707\n",
      "INFO:tensorflow:loss = 0.15801015, step = 16700 (0.603 sec)\n",
      "INFO:tensorflow:global_step/sec: 177.604\n",
      "INFO:tensorflow:loss = 0.16277581, step = 16800 (0.567 sec)\n",
      "INFO:tensorflow:global_step/sec: 178.721\n",
      "INFO:tensorflow:loss = 0.16031359, step = 16900 (0.561 sec)\n",
      "INFO:tensorflow:global_step/sec: 171.014\n",
      "INFO:tensorflow:loss = 0.1550019, step = 17000 (0.580 sec)\n",
      "INFO:tensorflow:global_step/sec: 176.378\n",
      "INFO:tensorflow:loss = 0.15571767, step = 17100 (0.566 sec)\n",
      "INFO:tensorflow:global_step/sec: 161.468\n",
      "INFO:tensorflow:loss = 0.15453273, step = 17200 (0.621 sec)\n",
      "INFO:tensorflow:global_step/sec: 179.071\n",
      "INFO:tensorflow:loss = 0.16302875, step = 17300 (0.557 sec)\n",
      "INFO:tensorflow:global_step/sec: 164.484\n",
      "INFO:tensorflow:loss = 0.15081947, step = 17400 (0.607 sec)\n",
      "INFO:tensorflow:global_step/sec: 173.623\n",
      "INFO:tensorflow:loss = 0.1541616, step = 17500 (0.582 sec)\n",
      "INFO:tensorflow:global_step/sec: 173.622\n",
      "INFO:tensorflow:loss = 0.15653451, step = 17600 (0.599 sec)\n",
      "INFO:tensorflow:global_step/sec: 162.326\n",
      "INFO:tensorflow:loss = 0.15374887, step = 17700 (0.588 sec)\n",
      "INFO:tensorflow:global_step/sec: 180.844\n",
      "INFO:tensorflow:loss = 0.16471043, step = 17800 (0.552 sec)\n",
      "INFO:tensorflow:global_step/sec: 174.836\n",
      "INFO:tensorflow:loss = 0.15401736, step = 17900 (0.573 sec)\n",
      "INFO:tensorflow:global_step/sec: 180.517\n",
      "INFO:tensorflow:loss = 0.15162688, step = 18000 (0.554 sec)\n",
      "INFO:tensorflow:global_step/sec: 175.142\n",
      "INFO:tensorflow:loss = 0.15741825, step = 18100 (0.571 sec)\n",
      "INFO:tensorflow:global_step/sec: 173.098\n",
      "INFO:tensorflow:loss = 0.14432605, step = 18200 (0.586 sec)\n",
      "INFO:tensorflow:global_step/sec: 168.923\n",
      "INFO:tensorflow:loss = 0.14414354, step = 18300 (0.586 sec)\n",
      "INFO:tensorflow:global_step/sec: 174.709\n",
      "INFO:tensorflow:loss = 0.14842932, step = 18400 (0.570 sec)\n",
      "INFO:tensorflow:global_step/sec: 178.902\n",
      "INFO:tensorflow:loss = 0.14700036, step = 18500 (0.559 sec)\n",
      "INFO:tensorflow:global_step/sec: 174.283\n",
      "INFO:tensorflow:loss = 0.14058694, step = 18600 (0.575 sec)\n",
      "INFO:tensorflow:global_step/sec: 183.82\n",
      "INFO:tensorflow:loss = 0.1468268, step = 18700 (0.542 sec)\n",
      "INFO:tensorflow:global_step/sec: 172.425\n",
      "INFO:tensorflow:loss = 0.14230475, step = 18800 (0.581 sec)\n",
      "INFO:tensorflow:global_step/sec: 170.367\n",
      "INFO:tensorflow:loss = 0.14329281, step = 18900 (0.613 sec)\n",
      "INFO:tensorflow:global_step/sec: 169.217\n",
      "INFO:tensorflow:loss = 0.13357063, step = 19000 (0.566 sec)\n",
      "INFO:tensorflow:global_step/sec: 167.102\n",
      "INFO:tensorflow:loss = 0.14352202, step = 19100 (0.597 sec)\n",
      "INFO:tensorflow:global_step/sec: 172.356\n",
      "INFO:tensorflow:loss = 0.1373702, step = 19200 (0.581 sec)\n",
      "INFO:tensorflow:global_step/sec: 167.592\n",
      "INFO:tensorflow:loss = 0.14065778, step = 19300 (0.603 sec)\n",
      "INFO:tensorflow:global_step/sec: 176.131\n",
      "INFO:tensorflow:loss = 0.13779226, step = 19400 (0.565 sec)\n",
      "INFO:tensorflow:global_step/sec: 176.892\n",
      "INFO:tensorflow:loss = 0.1389992, step = 19500 (0.565 sec)\n",
      "INFO:tensorflow:global_step/sec: 178.599\n",
      "INFO:tensorflow:loss = 0.14211456, step = 19600 (0.564 sec)\n",
      "INFO:tensorflow:global_step/sec: 175.512\n",
      "INFO:tensorflow:loss = 0.14519078, step = 19700 (0.563 sec)\n",
      "INFO:tensorflow:global_step/sec: 175.901\n",
      "INFO:tensorflow:loss = 0.13558692, step = 19800 (0.568 sec)\n",
      "INFO:tensorflow:global_step/sec: 176.378\n",
      "INFO:tensorflow:loss = 0.13325047, step = 19900 (0.567 sec)\n",
      "INFO:tensorflow:global_step/sec: 171.042\n",
      "INFO:tensorflow:loss = 0.13732594, step = 20000 (0.586 sec)\n",
      "INFO:tensorflow:global_step/sec: 167.47\n",
      "INFO:tensorflow:loss = 0.14096814, step = 20100 (0.595 sec)\n",
      "INFO:tensorflow:global_step/sec: 173.022\n",
      "INFO:tensorflow:loss = 0.13666382, step = 20200 (0.579 sec)\n",
      "INFO:tensorflow:global_step/sec: 175.06\n",
      "INFO:tensorflow:loss = 0.12265212, step = 20300 (0.577 sec)\n",
      "INFO:tensorflow:global_step/sec: 170.369\n",
      "INFO:tensorflow:loss = 0.13215375, step = 20400 (0.580 sec)\n",
      "INFO:tensorflow:global_step/sec: 170.951\n",
      "INFO:tensorflow:loss = 0.13696755, step = 20500 (0.587 sec)\n",
      "INFO:tensorflow:global_step/sec: 177.904\n",
      "INFO:tensorflow:loss = 0.1356071, step = 20600 (0.561 sec)\n",
      "INFO:tensorflow:global_step/sec: 175.53\n",
      "INFO:tensorflow:loss = 0.13545553, step = 20700 (0.577 sec)\n",
      "INFO:tensorflow:global_step/sec: 173.636\n",
      "INFO:tensorflow:loss = 0.13144699, step = 20800 (0.569 sec)\n",
      "INFO:tensorflow:global_step/sec: 167.797\n",
      "INFO:tensorflow:loss = 0.13207878, step = 20900 (0.595 sec)\n",
      "INFO:tensorflow:global_step/sec: 167.06\n",
      "INFO:tensorflow:loss = 0.12752788, step = 21000 (0.608 sec)\n",
      "INFO:tensorflow:global_step/sec: 169.515\n",
      "INFO:tensorflow:loss = 0.1275262, step = 21100 (0.585 sec)\n",
      "INFO:tensorflow:global_step/sec: 168.099\n",
      "INFO:tensorflow:loss = 0.120215096, step = 21200 (0.590 sec)\n",
      "INFO:tensorflow:global_step/sec: 180.257\n",
      "INFO:tensorflow:loss = 0.13416734, step = 21300 (0.562 sec)\n",
      "INFO:tensorflow:global_step/sec: 175.488\n",
      "INFO:tensorflow:loss = 0.1269885, step = 21400 (0.570 sec)\n",
      "INFO:tensorflow:global_step/sec: 174.896\n",
      "INFO:tensorflow:loss = 0.1374664, step = 21500 (0.564 sec)\n",
      "INFO:tensorflow:global_step/sec: 173.021\n",
      "INFO:tensorflow:loss = 0.12532869, step = 21600 (0.579 sec)\n",
      "INFO:tensorflow:global_step/sec: 175.28\n",
      "INFO:tensorflow:loss = 0.12428075, step = 21700 (0.574 sec)\n",
      "INFO:tensorflow:global_step/sec: 158.619\n",
      "INFO:tensorflow:loss = 0.13205498, step = 21800 (0.627 sec)\n",
      "INFO:tensorflow:global_step/sec: 164.83\n",
      "INFO:tensorflow:loss = 0.12690097, step = 21900 (0.605 sec)\n",
      "INFO:tensorflow:global_step/sec: 173.465\n",
      "INFO:tensorflow:loss = 0.123734325, step = 22000 (0.578 sec)\n",
      "INFO:tensorflow:global_step/sec: 183.08\n",
      "INFO:tensorflow:loss = 0.11660349, step = 22100 (0.560 sec)\n",
      "INFO:tensorflow:global_step/sec: 161.555\n",
      "INFO:tensorflow:loss = 0.123280086, step = 22200 (0.604 sec)\n",
      "INFO:tensorflow:global_step/sec: 172.425\n",
      "INFO:tensorflow:loss = 0.12560652, step = 22300 (0.581 sec)\n",
      "INFO:tensorflow:global_step/sec: 181.388\n",
      "INFO:tensorflow:loss = 0.11914985, step = 22400 (0.555 sec)\n",
      "INFO:tensorflow:global_step/sec: 173.792\n",
      "INFO:tensorflow:loss = 0.12899694, step = 22500 (0.571 sec)\n",
      "INFO:tensorflow:global_step/sec: 151.295\n",
      "INFO:tensorflow:loss = 0.12062087, step = 22600 (0.665 sec)\n",
      "INFO:tensorflow:global_step/sec: 141.252\n",
      "INFO:tensorflow:loss = 0.12238648, step = 22700 (0.706 sec)\n",
      "INFO:tensorflow:global_step/sec: 148.042\n",
      "INFO:tensorflow:loss = 0.12265423, step = 22800 (0.681 sec)\n",
      "INFO:tensorflow:global_step/sec: 147.03\n",
      "INFO:tensorflow:loss = 0.12844984, step = 22900 (0.677 sec)\n",
      "INFO:tensorflow:global_step/sec: 161.797\n",
      "INFO:tensorflow:loss = 0.11564238, step = 23000 (0.617 sec)\n",
      "INFO:tensorflow:global_step/sec: 155.729\n",
      "INFO:tensorflow:loss = 0.120223045, step = 23100 (0.648 sec)\n",
      "INFO:tensorflow:global_step/sec: 153.16\n",
      "INFO:tensorflow:loss = 0.11426814, step = 23200 (0.648 sec)\n",
      "INFO:tensorflow:global_step/sec: 164.854\n",
      "INFO:tensorflow:loss = 0.11638823, step = 23300 (0.605 sec)\n",
      "INFO:tensorflow:global_step/sec: 180.517\n"
     ]
    },
    {
     "name": "stdout",
     "output_type": "stream",
     "text": [
      "INFO:tensorflow:loss = 0.122719884, step = 23400 (0.555 sec)\n",
      "INFO:tensorflow:global_step/sec: 172.128\n",
      "INFO:tensorflow:loss = 0.102032214, step = 23500 (0.580 sec)\n",
      "INFO:tensorflow:global_step/sec: 168.078\n",
      "INFO:tensorflow:loss = 0.13141447, step = 23600 (0.594 sec)\n",
      "INFO:tensorflow:global_step/sec: 179.223\n",
      "INFO:tensorflow:loss = 0.12041926, step = 23700 (0.559 sec)\n",
      "INFO:tensorflow:global_step/sec: 177.82\n",
      "INFO:tensorflow:loss = 0.12685892, step = 23800 (0.570 sec)\n",
      "INFO:tensorflow:global_step/sec: 178.513\n",
      "INFO:tensorflow:loss = 0.12720719, step = 23900 (0.556 sec)\n",
      "INFO:tensorflow:global_step/sec: 174.889\n",
      "INFO:tensorflow:loss = 0.11575781, step = 24000 (0.569 sec)\n",
      "INFO:tensorflow:global_step/sec: 181.038\n",
      "INFO:tensorflow:loss = 0.123846896, step = 24100 (0.551 sec)\n",
      "INFO:tensorflow:global_step/sec: 176.741\n",
      "INFO:tensorflow:loss = 0.11026604, step = 24200 (0.566 sec)\n",
      "INFO:tensorflow:global_step/sec: 182.328\n",
      "INFO:tensorflow:loss = 0.11688675, step = 24300 (0.550 sec)\n",
      "INFO:tensorflow:global_step/sec: 122.179\n",
      "INFO:tensorflow:loss = 0.11284881, step = 24400 (0.822 sec)\n",
      "INFO:tensorflow:global_step/sec: 115.214\n",
      "INFO:tensorflow:loss = 0.11531249, step = 24500 (0.893 sec)\n",
      "INFO:tensorflow:global_step/sec: 80.4557\n",
      "INFO:tensorflow:loss = 0.11980995, step = 24600 (1.222 sec)\n",
      "INFO:tensorflow:global_step/sec: 89.9337\n",
      "INFO:tensorflow:loss = 0.106933214, step = 24700 (1.101 sec)\n",
      "INFO:tensorflow:global_step/sec: 114.686\n",
      "INFO:tensorflow:loss = 0.11097422, step = 24800 (0.875 sec)\n",
      "INFO:tensorflow:global_step/sec: 104.719\n",
      "INFO:tensorflow:loss = 0.117697656, step = 24900 (0.965 sec)\n",
      "INFO:tensorflow:global_step/sec: 124.852\n",
      "INFO:tensorflow:loss = 0.11943843, step = 25000 (0.790 sec)\n",
      "INFO:tensorflow:global_step/sec: 159.246\n",
      "INFO:tensorflow:loss = 0.10777286, step = 25100 (0.631 sec)\n",
      "INFO:tensorflow:global_step/sec: 103.741\n",
      "INFO:tensorflow:loss = 0.118794136, step = 25200 (0.971 sec)\n",
      "INFO:tensorflow:global_step/sec: 139.869\n",
      "INFO:tensorflow:loss = 0.11303937, step = 25300 (0.706 sec)\n",
      "INFO:tensorflow:global_step/sec: 146.207\n",
      "INFO:tensorflow:loss = 0.117021754, step = 25400 (0.683 sec)\n",
      "INFO:tensorflow:global_step/sec: 131.243\n",
      "INFO:tensorflow:loss = 0.11132878, step = 25500 (0.760 sec)\n",
      "INFO:tensorflow:global_step/sec: 149.71\n",
      "INFO:tensorflow:loss = 0.112101935, step = 25600 (0.673 sec)\n",
      "INFO:tensorflow:global_step/sec: 128.953\n",
      "INFO:tensorflow:loss = 0.10575418, step = 25700 (0.777 sec)\n",
      "INFO:tensorflow:global_step/sec: 134.057\n",
      "INFO:tensorflow:loss = 0.116265915, step = 25800 (0.743 sec)\n",
      "INFO:tensorflow:global_step/sec: 135.714\n",
      "INFO:tensorflow:loss = 0.120102815, step = 25900 (0.733 sec)\n",
      "INFO:tensorflow:global_step/sec: 165.201\n",
      "INFO:tensorflow:loss = 0.115360655, step = 26000 (0.606 sec)\n",
      "INFO:tensorflow:global_step/sec: 119.571\n",
      "INFO:tensorflow:loss = 0.11950439, step = 26100 (0.838 sec)\n",
      "INFO:tensorflow:global_step/sec: 168.404\n",
      "INFO:tensorflow:loss = 0.10482532, step = 26200 (0.592 sec)\n",
      "INFO:tensorflow:global_step/sec: 157.244\n",
      "INFO:tensorflow:loss = 0.11535457, step = 26300 (0.639 sec)\n",
      "INFO:tensorflow:global_step/sec: 102.676\n",
      "INFO:tensorflow:loss = 0.113415, step = 26400 (0.971 sec)\n",
      "INFO:tensorflow:global_step/sec: 137.75\n",
      "INFO:tensorflow:loss = 0.1140672, step = 26500 (0.727 sec)\n",
      "INFO:tensorflow:global_step/sec: 133.648\n",
      "INFO:tensorflow:loss = 0.119129255, step = 26600 (0.748 sec)\n",
      "INFO:tensorflow:global_step/sec: 161.465\n",
      "INFO:tensorflow:loss = 0.10801391, step = 26700 (0.620 sec)\n",
      "INFO:tensorflow:global_step/sec: 165.243\n",
      "INFO:tensorflow:loss = 0.100194596, step = 26800 (0.607 sec)\n",
      "INFO:tensorflow:global_step/sec: 162.349\n",
      "INFO:tensorflow:loss = 0.11158994, step = 26900 (0.614 sec)\n",
      "INFO:tensorflow:global_step/sec: 166.899\n",
      "INFO:tensorflow:loss = 0.11179748, step = 27000 (0.597 sec)\n",
      "INFO:tensorflow:global_step/sec: 172.605\n",
      "INFO:tensorflow:loss = 0.10885978, step = 27100 (0.578 sec)\n",
      "INFO:tensorflow:global_step/sec: 174.226\n",
      "INFO:tensorflow:loss = 0.10435666, step = 27200 (0.574 sec)\n",
      "INFO:tensorflow:global_step/sec: 163.945\n",
      "INFO:tensorflow:loss = 0.10456273, step = 27300 (0.610 sec)\n",
      "INFO:tensorflow:global_step/sec: 170.952\n",
      "INFO:tensorflow:loss = 0.10390073, step = 27400 (0.586 sec)\n",
      "INFO:tensorflow:global_step/sec: 182.827\n",
      "INFO:tensorflow:loss = 0.11026335, step = 27500 (0.546 sec)\n",
      "INFO:tensorflow:global_step/sec: 182.16\n",
      "INFO:tensorflow:loss = 0.10375439, step = 27600 (0.554 sec)\n",
      "INFO:tensorflow:global_step/sec: 155.774\n",
      "INFO:tensorflow:loss = 0.09682401, step = 27700 (0.642 sec)\n",
      "INFO:tensorflow:global_step/sec: 172.722\n",
      "INFO:tensorflow:loss = 0.095133744, step = 27800 (0.574 sec)\n",
      "INFO:tensorflow:global_step/sec: 180.192\n",
      "INFO:tensorflow:loss = 0.11265214, step = 27900 (0.555 sec)\n",
      "INFO:tensorflow:global_step/sec: 167.515\n",
      "INFO:tensorflow:loss = 0.10100721, step = 28000 (0.599 sec)\n",
      "INFO:tensorflow:global_step/sec: 172.127\n",
      "INFO:tensorflow:loss = 0.09745672, step = 28100 (0.584 sec)\n",
      "INFO:tensorflow:global_step/sec: 167.721\n",
      "INFO:tensorflow:loss = 0.11271283, step = 28200 (0.595 sec)\n",
      "INFO:tensorflow:global_step/sec: 185.242\n",
      "INFO:tensorflow:loss = 0.10189399, step = 28300 (0.544 sec)\n",
      "INFO:tensorflow:global_step/sec: 181.877\n",
      "INFO:tensorflow:loss = 0.115255654, step = 28400 (0.540 sec)\n",
      "INFO:tensorflow:global_step/sec: 176.865\n",
      "INFO:tensorflow:loss = 0.10778003, step = 28500 (0.571 sec)\n",
      "INFO:tensorflow:global_step/sec: 186.772\n",
      "INFO:tensorflow:loss = 0.09955184, step = 28600 (0.532 sec)\n",
      "INFO:tensorflow:global_step/sec: 178.613\n",
      "INFO:tensorflow:loss = 0.10371767, step = 28700 (0.557 sec)\n",
      "INFO:tensorflow:global_step/sec: 177.584\n",
      "INFO:tensorflow:loss = 0.1001253, step = 28800 (0.566 sec)\n",
      "INFO:tensorflow:global_step/sec: 177.947\n",
      "INFO:tensorflow:loss = 0.103795454, step = 28900 (0.562 sec)\n",
      "INFO:tensorflow:global_step/sec: 162.782\n",
      "INFO:tensorflow:loss = 0.10315395, step = 29000 (0.624 sec)\n",
      "INFO:tensorflow:global_step/sec: 156.232\n",
      "INFO:tensorflow:loss = 0.101071365, step = 29100 (0.630 sec)\n",
      "INFO:tensorflow:global_step/sec: 172.22\n",
      "INFO:tensorflow:loss = 0.10701293, step = 29200 (0.578 sec)\n",
      "INFO:tensorflow:global_step/sec: 174.394\n",
      "INFO:tensorflow:loss = 0.093678296, step = 29300 (0.579 sec)\n",
      "INFO:tensorflow:global_step/sec: 166.999\n",
      "INFO:tensorflow:loss = 0.100021526, step = 29400 (0.599 sec)\n",
      "INFO:tensorflow:global_step/sec: 159.45\n",
      "INFO:tensorflow:loss = 0.10637473, step = 29500 (0.629 sec)\n",
      "INFO:tensorflow:global_step/sec: 187.196\n",
      "INFO:tensorflow:loss = 0.09557976, step = 29600 (0.529 sec)\n",
      "INFO:tensorflow:global_step/sec: 179.798\n",
      "INFO:tensorflow:loss = 0.09947026, step = 29700 (0.558 sec)\n",
      "INFO:tensorflow:global_step/sec: 185.361\n",
      "INFO:tensorflow:loss = 0.09661837, step = 29800 (0.543 sec)\n",
      "INFO:tensorflow:global_step/sec: 173.861\n",
      "INFO:tensorflow:loss = 0.09291478, step = 29900 (0.571 sec)\n",
      "INFO:tensorflow:global_step/sec: 164.159\n",
      "INFO:tensorflow:loss = 0.100885406, step = 30000 (0.615 sec)\n",
      "INFO:tensorflow:global_step/sec: 162.355\n",
      "INFO:tensorflow:loss = 0.09374589, step = 30100 (0.620 sec)\n",
      "INFO:tensorflow:global_step/sec: 172.291\n",
      "INFO:tensorflow:loss = 0.099695966, step = 30200 (0.579 sec)\n",
      "INFO:tensorflow:global_step/sec: 188.887\n",
      "INFO:tensorflow:loss = 0.102619275, step = 30300 (0.528 sec)\n",
      "INFO:tensorflow:global_step/sec: 180.434\n",
      "INFO:tensorflow:loss = 0.105057746, step = 30400 (0.548 sec)\n",
      "INFO:tensorflow:global_step/sec: 179.786\n",
      "INFO:tensorflow:loss = 0.100636125, step = 30500 (0.558 sec)\n",
      "INFO:tensorflow:global_step/sec: 185.267\n",
      "INFO:tensorflow:loss = 0.104952365, step = 30600 (0.536 sec)\n",
      "INFO:tensorflow:global_step/sec: 169.524\n",
      "INFO:tensorflow:loss = 0.10120405, step = 30700 (0.595 sec)\n",
      "INFO:tensorflow:global_step/sec: 184.521\n",
      "INFO:tensorflow:loss = 0.101960585, step = 30800 (0.546 sec)\n",
      "INFO:tensorflow:global_step/sec: 156.774\n",
      "INFO:tensorflow:loss = 0.104161605, step = 30900 (0.629 sec)\n",
      "INFO:tensorflow:global_step/sec: 156.548\n",
      "INFO:tensorflow:loss = 0.09559201, step = 31000 (0.642 sec)\n",
      "INFO:tensorflow:global_step/sec: 177.978\n",
      "INFO:tensorflow:loss = 0.095492914, step = 31100 (0.569 sec)\n",
      "INFO:tensorflow:global_step/sec: 147.503\n",
      "INFO:tensorflow:loss = 0.094559595, step = 31200 (0.674 sec)\n",
      "INFO:tensorflow:global_step/sec: 137.869\n",
      "INFO:tensorflow:loss = 0.08488651, step = 31300 (0.719 sec)\n",
      "INFO:tensorflow:global_step/sec: 139.522\n",
      "INFO:tensorflow:loss = 0.09743383, step = 31400 (0.724 sec)\n",
      "INFO:tensorflow:global_step/sec: 141.95\n"
     ]
    },
    {
     "name": "stdout",
     "output_type": "stream",
     "text": [
      "INFO:tensorflow:loss = 0.09185534, step = 31500 (0.701 sec)\n",
      "INFO:tensorflow:global_step/sec: 162.265\n",
      "INFO:tensorflow:loss = 0.09507795, step = 31600 (0.615 sec)\n",
      "INFO:tensorflow:global_step/sec: 171.287\n",
      "INFO:tensorflow:loss = 0.09863001, step = 31700 (0.589 sec)\n",
      "INFO:tensorflow:global_step/sec: 178.565\n",
      "INFO:tensorflow:loss = 0.092176855, step = 31800 (0.562 sec)\n",
      "INFO:tensorflow:global_step/sec: 172.436\n",
      "INFO:tensorflow:loss = 0.106732495, step = 31900 (0.572 sec)\n",
      "INFO:tensorflow:global_step/sec: 178.607\n",
      "INFO:tensorflow:loss = 0.08741148, step = 32000 (0.560 sec)\n",
      "INFO:tensorflow:global_step/sec: 180.178\n",
      "INFO:tensorflow:loss = 0.09342173, step = 32100 (0.557 sec)\n",
      "INFO:tensorflow:global_step/sec: 138.322\n",
      "INFO:tensorflow:loss = 0.07861515, step = 32200 (0.722 sec)\n",
      "INFO:tensorflow:global_step/sec: 148.679\n",
      "INFO:tensorflow:loss = 0.09501834, step = 32300 (0.678 sec)\n",
      "INFO:tensorflow:global_step/sec: 113.899\n",
      "INFO:tensorflow:loss = 0.09107171, step = 32400 (0.872 sec)\n",
      "INFO:tensorflow:global_step/sec: 129.634\n",
      "INFO:tensorflow:loss = 0.10679854, step = 32500 (0.773 sec)\n",
      "INFO:tensorflow:global_step/sec: 133.589\n",
      "INFO:tensorflow:loss = 0.099848434, step = 32600 (0.748 sec)\n",
      "INFO:tensorflow:global_step/sec: 167.855\n",
      "INFO:tensorflow:loss = 0.10092789, step = 32700 (0.595 sec)\n",
      "INFO:tensorflow:global_step/sec: 184.82\n",
      "INFO:tensorflow:loss = 0.094364524, step = 32800 (0.540 sec)\n",
      "INFO:tensorflow:global_step/sec: 182.831\n",
      "INFO:tensorflow:loss = 0.09313576, step = 32900 (0.547 sec)\n",
      "INFO:tensorflow:global_step/sec: 163.936\n",
      "INFO:tensorflow:loss = 0.09379312, step = 33000 (0.611 sec)\n",
      "INFO:tensorflow:global_step/sec: 163.084\n",
      "INFO:tensorflow:loss = 0.09060797, step = 33100 (0.619 sec)\n",
      "INFO:tensorflow:global_step/sec: 185.364\n",
      "INFO:tensorflow:loss = 0.10321146, step = 33200 (0.532 sec)\n",
      "INFO:tensorflow:global_step/sec: 176.067\n",
      "INFO:tensorflow:loss = 0.090288155, step = 33300 (0.574 sec)\n",
      "INFO:tensorflow:global_step/sec: 166.65\n",
      "INFO:tensorflow:loss = 0.08512956, step = 33400 (0.598 sec)\n",
      "INFO:tensorflow:global_step/sec: 184.416\n",
      "INFO:tensorflow:loss = 0.09105311, step = 33500 (0.546 sec)\n",
      "INFO:tensorflow:global_step/sec: 179.033\n",
      "INFO:tensorflow:loss = 0.08981335, step = 33600 (0.551 sec)\n",
      "INFO:tensorflow:global_step/sec: 159.499\n",
      "INFO:tensorflow:loss = 0.084533274, step = 33700 (0.632 sec)\n",
      "INFO:tensorflow:global_step/sec: 148.589\n",
      "INFO:tensorflow:loss = 0.10613923, step = 33800 (0.667 sec)\n",
      "INFO:tensorflow:global_step/sec: 169.889\n",
      "INFO:tensorflow:loss = 0.08982207, step = 33900 (0.594 sec)\n",
      "WARNING:tensorflow:It seems that global step (tf.train.get_global_step) has not been increased. Current value (could be stable): 33903 vs previous value: 33903. You could increase the global step by passing tf.train.get_global_step() to Optimizer.apply_gradients or Optimizer.minimize.\n",
      "INFO:tensorflow:global_step/sec: 154.895\n",
      "INFO:tensorflow:loss = 0.0919053, step = 34000 (0.652 sec)\n",
      "INFO:tensorflow:global_step/sec: 149.814\n",
      "INFO:tensorflow:loss = 0.09435025, step = 34100 (0.659 sec)\n",
      "WARNING:tensorflow:It seems that global step (tf.train.get_global_step) has not been increased. Current value (could be stable): 34198 vs previous value: 34198. You could increase the global step by passing tf.train.get_global_step() to Optimizer.apply_gradients or Optimizer.minimize.\n",
      "INFO:tensorflow:global_step/sec: 122.748\n",
      "INFO:tensorflow:loss = 0.08985284, step = 34200 (0.815 sec)\n",
      "INFO:tensorflow:global_step/sec: 126.189\n",
      "INFO:tensorflow:loss = 0.087190896, step = 34300 (0.791 sec)\n",
      "INFO:tensorflow:global_step/sec: 157.931\n",
      "INFO:tensorflow:loss = 0.08868091, step = 34400 (0.639 sec)\n",
      "INFO:tensorflow:global_step/sec: 169.577\n",
      "INFO:tensorflow:loss = 0.08937451, step = 34500 (0.584 sec)\n",
      "INFO:tensorflow:global_step/sec: 187.04\n",
      "INFO:tensorflow:loss = 0.09634441, step = 34600 (0.533 sec)\n",
      "INFO:tensorflow:global_step/sec: 159.5\n",
      "INFO:tensorflow:loss = 0.0864244, step = 34700 (0.637 sec)\n",
      "INFO:tensorflow:global_step/sec: 124.852\n",
      "INFO:tensorflow:loss = 0.0965486, step = 34800 (0.797 sec)\n",
      "INFO:tensorflow:global_step/sec: 97.9491\n",
      "INFO:tensorflow:loss = 0.10050467, step = 34900 (1.020 sec)\n",
      "INFO:tensorflow:global_step/sec: 121.345\n",
      "INFO:tensorflow:loss = 0.08653355, step = 35000 (0.824 sec)\n",
      "INFO:tensorflow:global_step/sec: 98.9065\n",
      "INFO:tensorflow:loss = 0.08816755, step = 35100 (1.012 sec)\n",
      "INFO:tensorflow:global_step/sec: 148.989\n",
      "INFO:tensorflow:loss = 0.08779532, step = 35200 (0.670 sec)\n",
      "INFO:tensorflow:global_step/sec: 121.892\n",
      "INFO:tensorflow:loss = 0.08718538, step = 35300 (0.818 sec)\n",
      "INFO:tensorflow:global_step/sec: 98.5435\n",
      "INFO:tensorflow:loss = 0.08739111, step = 35400 (1.027 sec)\n",
      "INFO:tensorflow:global_step/sec: 142.946\n",
      "INFO:tensorflow:loss = 0.08769737, step = 35500 (0.697 sec)\n",
      "INFO:tensorflow:global_step/sec: 149.464\n",
      "INFO:tensorflow:loss = 0.080382146, step = 35600 (0.659 sec)\n",
      "INFO:tensorflow:global_step/sec: 135.119\n",
      "INFO:tensorflow:loss = 0.095944464, step = 35700 (0.751 sec)\n",
      "INFO:tensorflow:global_step/sec: 145.798\n",
      "INFO:tensorflow:loss = 0.09805213, step = 35800 (0.675 sec)\n",
      "INFO:tensorflow:global_step/sec: 163.815\n",
      "INFO:tensorflow:loss = 0.092331454, step = 35900 (0.612 sec)\n",
      "INFO:tensorflow:global_step/sec: 164.324\n",
      "INFO:tensorflow:loss = 0.09037241, step = 36000 (0.609 sec)\n",
      "INFO:tensorflow:global_step/sec: 154.331\n",
      "INFO:tensorflow:loss = 0.089396544, step = 36100 (0.649 sec)\n",
      "INFO:tensorflow:global_step/sec: 156.504\n",
      "INFO:tensorflow:loss = 0.085483074, step = 36200 (0.637 sec)\n",
      "INFO:tensorflow:global_step/sec: 162.612\n",
      "INFO:tensorflow:loss = 0.086183704, step = 36300 (0.616 sec)\n",
      "INFO:tensorflow:global_step/sec: 153.856\n",
      "INFO:tensorflow:loss = 0.08706866, step = 36400 (0.651 sec)\n",
      "INFO:tensorflow:global_step/sec: 155.049\n",
      "INFO:tensorflow:loss = 0.086418465, step = 36500 (0.677 sec)\n",
      "INFO:tensorflow:global_step/sec: 154.402\n",
      "INFO:tensorflow:loss = 0.087010026, step = 36600 (0.612 sec)\n",
      "INFO:tensorflow:global_step/sec: 163.143\n",
      "INFO:tensorflow:loss = 0.08557637, step = 36700 (0.618 sec)\n",
      "INFO:tensorflow:global_step/sec: 154.092\n",
      "INFO:tensorflow:loss = 0.0859431, step = 36800 (0.645 sec)\n",
      "INFO:tensorflow:global_step/sec: 164.756\n",
      "INFO:tensorflow:loss = 0.08473486, step = 36900 (0.606 sec)\n",
      "INFO:tensorflow:global_step/sec: 181.008\n",
      "INFO:tensorflow:loss = 0.08756893, step = 37000 (0.554 sec)\n",
      "INFO:tensorflow:global_step/sec: 173.828\n",
      "INFO:tensorflow:loss = 0.08452604, step = 37100 (0.577 sec)\n",
      "INFO:tensorflow:global_step/sec: 178.63\n",
      "INFO:tensorflow:loss = 0.08366157, step = 37200 (0.562 sec)\n",
      "INFO:tensorflow:global_step/sec: 162.439\n",
      "INFO:tensorflow:loss = 0.093360305, step = 37300 (0.619 sec)\n",
      "INFO:tensorflow:global_step/sec: 161.126\n",
      "INFO:tensorflow:loss = 0.094203226, step = 37400 (0.613 sec)\n",
      "INFO:tensorflow:global_step/sec: 177.646\n",
      "INFO:tensorflow:loss = 0.087191805, step = 37500 (0.561 sec)\n",
      "INFO:tensorflow:global_step/sec: 170.885\n",
      "INFO:tensorflow:loss = 0.08826621, step = 37600 (0.586 sec)\n",
      "INFO:tensorflow:global_step/sec: 175.226\n",
      "INFO:tensorflow:loss = 0.08406456, step = 37700 (0.570 sec)\n",
      "INFO:tensorflow:global_step/sec: 169.684\n",
      "INFO:tensorflow:loss = 0.08287626, step = 37800 (0.589 sec)\n",
      "INFO:tensorflow:global_step/sec: 160.461\n",
      "INFO:tensorflow:loss = 0.086260706, step = 37900 (0.624 sec)\n",
      "INFO:tensorflow:global_step/sec: 177.002\n",
      "INFO:tensorflow:loss = 0.098249376, step = 38000 (0.565 sec)\n",
      "INFO:tensorflow:global_step/sec: 176.112\n",
      "INFO:tensorflow:loss = 0.08721772, step = 38100 (0.575 sec)\n",
      "INFO:tensorflow:global_step/sec: 152.892\n",
      "INFO:tensorflow:loss = 0.07949619, step = 38200 (0.652 sec)\n",
      "INFO:tensorflow:global_step/sec: 156.737\n",
      "INFO:tensorflow:loss = 0.08944327, step = 38300 (0.634 sec)\n",
      "INFO:tensorflow:global_step/sec: 176.144\n",
      "INFO:tensorflow:loss = 0.08744252, step = 38400 (0.571 sec)\n",
      "INFO:tensorflow:global_step/sec: 181.751\n",
      "INFO:tensorflow:loss = 0.09023531, step = 38500 (0.556 sec)\n",
      "INFO:tensorflow:global_step/sec: 168.729\n",
      "INFO:tensorflow:loss = 0.08232908, step = 38600 (0.582 sec)\n",
      "INFO:tensorflow:global_step/sec: 182.159\n",
      "INFO:tensorflow:loss = 0.08996108, step = 38700 (0.551 sec)\n",
      "INFO:tensorflow:global_step/sec: 172.937\n",
      "INFO:tensorflow:loss = 0.092936665, step = 38800 (0.583 sec)\n",
      "INFO:tensorflow:global_step/sec: 173.858\n",
      "INFO:tensorflow:loss = 0.09021646, step = 38900 (0.568 sec)\n",
      "INFO:tensorflow:global_step/sec: 173.023\n",
      "INFO:tensorflow:loss = 0.083754145, step = 39000 (0.579 sec)\n"
     ]
    },
    {
     "name": "stdout",
     "output_type": "stream",
     "text": [
      "INFO:tensorflow:global_step/sec: 166.132\n",
      "INFO:tensorflow:loss = 0.08484362, step = 39100 (0.606 sec)\n",
      "INFO:tensorflow:global_step/sec: 177.034\n",
      "INFO:tensorflow:loss = 0.08429809, step = 39200 (0.569 sec)\n",
      "INFO:tensorflow:global_step/sec: 169.389\n",
      "INFO:tensorflow:loss = 0.08348497, step = 39300 (0.582 sec)\n",
      "INFO:tensorflow:global_step/sec: 181.78\n",
      "INFO:tensorflow:loss = 0.0786964, step = 39400 (0.555 sec)\n",
      "INFO:tensorflow:global_step/sec: 169.613\n",
      "INFO:tensorflow:loss = 0.08070667, step = 39500 (0.583 sec)\n",
      "INFO:tensorflow:global_step/sec: 182.001\n",
      "INFO:tensorflow:loss = 0.08382086, step = 39600 (0.553 sec)\n",
      "INFO:tensorflow:global_step/sec: 175.957\n",
      "INFO:tensorflow:loss = 0.08320903, step = 39700 (0.566 sec)\n",
      "INFO:tensorflow:global_step/sec: 181.04\n",
      "INFO:tensorflow:loss = 0.07766275, step = 39800 (0.562 sec)\n",
      "INFO:tensorflow:global_step/sec: 178.601\n",
      "INFO:tensorflow:loss = 0.089074686, step = 39900 (0.557 sec)\n",
      "INFO:tensorflow:global_step/sec: 159.51\n",
      "INFO:tensorflow:loss = 0.08652717, step = 40000 (0.621 sec)\n",
      "INFO:tensorflow:global_step/sec: 175.449\n",
      "INFO:tensorflow:loss = 0.08558403, step = 40100 (0.568 sec)\n",
      "INFO:tensorflow:global_step/sec: 166.124\n",
      "INFO:tensorflow:loss = 0.089524224, step = 40200 (0.603 sec)\n",
      "INFO:tensorflow:global_step/sec: 176.689\n",
      "INFO:tensorflow:loss = 0.077497594, step = 40300 (0.571 sec)\n",
      "INFO:tensorflow:global_step/sec: 151.755\n",
      "INFO:tensorflow:loss = 0.08621934, step = 40400 (0.654 sec)\n",
      "INFO:tensorflow:global_step/sec: 173.622\n",
      "INFO:tensorflow:loss = 0.08666582, step = 40500 (0.576 sec)\n",
      "INFO:tensorflow:global_step/sec: 163.704\n",
      "INFO:tensorflow:loss = 0.07656909, step = 40600 (0.620 sec)\n",
      "INFO:tensorflow:global_step/sec: 156.395\n",
      "INFO:tensorflow:loss = 0.098630145, step = 40700 (0.635 sec)\n",
      "INFO:tensorflow:global_step/sec: 142.534\n",
      "INFO:tensorflow:loss = 0.07943192, step = 40800 (0.701 sec)\n",
      "INFO:tensorflow:global_step/sec: 145.229\n",
      "INFO:tensorflow:loss = 0.08944949, step = 40900 (0.688 sec)\n",
      "INFO:tensorflow:global_step/sec: 157.896\n",
      "INFO:tensorflow:loss = 0.080085814, step = 41000 (0.631 sec)\n",
      "INFO:tensorflow:global_step/sec: 170.45\n",
      "INFO:tensorflow:loss = 0.079397865, step = 41100 (0.591 sec)\n",
      "INFO:tensorflow:global_step/sec: 172.394\n",
      "INFO:tensorflow:loss = 0.082415156, step = 41200 (0.575 sec)\n",
      "INFO:tensorflow:global_step/sec: 179.53\n",
      "INFO:tensorflow:loss = 0.07711564, step = 41300 (0.555 sec)\n",
      "INFO:tensorflow:global_step/sec: 180.191\n",
      "INFO:tensorflow:loss = 0.0783845, step = 41400 (0.556 sec)\n",
      "INFO:tensorflow:global_step/sec: 173.022\n",
      "INFO:tensorflow:loss = 0.08963162, step = 41500 (0.584 sec)\n",
      "INFO:tensorflow:global_step/sec: 166.749\n",
      "INFO:tensorflow:loss = 0.08171632, step = 41600 (0.600 sec)\n",
      "INFO:tensorflow:global_step/sec: 165.227\n",
      "INFO:tensorflow:loss = 0.077298455, step = 41700 (0.608 sec)\n",
      "INFO:tensorflow:global_step/sec: 172.142\n",
      "INFO:tensorflow:loss = 0.07879686, step = 41800 (0.572 sec)\n",
      "INFO:tensorflow:global_step/sec: 170.94\n",
      "INFO:tensorflow:loss = 0.07813576, step = 41900 (0.585 sec)\n",
      "INFO:tensorflow:global_step/sec: 168.249\n",
      "INFO:tensorflow:loss = 0.08585854, step = 42000 (0.593 sec)\n",
      "INFO:tensorflow:global_step/sec: 178.602\n",
      "INFO:tensorflow:loss = 0.0747602, step = 42100 (0.565 sec)\n",
      "INFO:tensorflow:global_step/sec: 165.373\n",
      "INFO:tensorflow:loss = 0.07716228, step = 42200 (0.609 sec)\n",
      "INFO:tensorflow:global_step/sec: 174.021\n",
      "INFO:tensorflow:loss = 0.0854846, step = 42300 (0.566 sec)\n",
      "INFO:tensorflow:global_step/sec: 181.105\n",
      "INFO:tensorflow:loss = 0.06851616, step = 42400 (0.552 sec)\n",
      "INFO:tensorflow:global_step/sec: 174.413\n",
      "INFO:tensorflow:loss = 0.081676304, step = 42500 (0.577 sec)\n",
      "INFO:tensorflow:global_step/sec: 172.506\n",
      "INFO:tensorflow:loss = 0.08019474, step = 42600 (0.578 sec)\n",
      "INFO:tensorflow:global_step/sec: 171.236\n",
      "INFO:tensorflow:loss = 0.07562044, step = 42700 (0.585 sec)\n",
      "INFO:tensorflow:global_step/sec: 173.48\n",
      "INFO:tensorflow:loss = 0.077160254, step = 42800 (0.585 sec)\n",
      "INFO:tensorflow:global_step/sec: 165.841\n",
      "INFO:tensorflow:loss = 0.08135119, step = 42900 (0.591 sec)\n",
      "INFO:tensorflow:global_step/sec: 163.402\n",
      "INFO:tensorflow:loss = 0.083933145, step = 43000 (0.614 sec)\n",
      "INFO:tensorflow:global_step/sec: 168.588\n",
      "INFO:tensorflow:loss = 0.079670146, step = 43100 (0.592 sec)\n",
      "INFO:tensorflow:global_step/sec: 167.796\n",
      "INFO:tensorflow:loss = 0.07861836, step = 43200 (0.596 sec)\n",
      "INFO:tensorflow:global_step/sec: 162.876\n",
      "INFO:tensorflow:loss = 0.09080287, step = 43300 (0.628 sec)\n",
      "INFO:tensorflow:global_step/sec: 147.068\n",
      "INFO:tensorflow:loss = 0.08596427, step = 43400 (0.674 sec)\n",
      "INFO:tensorflow:global_step/sec: 134.598\n",
      "INFO:tensorflow:loss = 0.083896935, step = 43500 (0.735 sec)\n",
      "INFO:tensorflow:global_step/sec: 164.621\n",
      "INFO:tensorflow:loss = 0.07887373, step = 43600 (0.611 sec)\n",
      "INFO:tensorflow:global_step/sec: 172.005\n",
      "INFO:tensorflow:loss = 0.07893497, step = 43700 (0.586 sec)\n",
      "INFO:tensorflow:global_step/sec: 162.779\n",
      "INFO:tensorflow:loss = 0.07933253, step = 43800 (0.605 sec)\n",
      "INFO:tensorflow:global_step/sec: 175.143\n",
      "INFO:tensorflow:loss = 0.08378047, step = 43900 (0.572 sec)\n",
      "INFO:tensorflow:global_step/sec: 163.944\n",
      "INFO:tensorflow:loss = 0.06787741, step = 44000 (0.610 sec)\n",
      "INFO:tensorflow:global_step/sec: 166.677\n",
      "INFO:tensorflow:loss = 0.08076547, step = 44100 (0.608 sec)\n",
      "INFO:tensorflow:global_step/sec: 175.853\n",
      "INFO:tensorflow:loss = 0.07150121, step = 44200 (0.568 sec)\n",
      "INFO:tensorflow:global_step/sec: 172.431\n",
      "INFO:tensorflow:loss = 0.07923362, step = 44300 (0.572 sec)\n",
      "INFO:tensorflow:global_step/sec: 157.49\n",
      "INFO:tensorflow:loss = 0.078471586, step = 44400 (0.635 sec)\n",
      "INFO:tensorflow:global_step/sec: 172.723\n",
      "INFO:tensorflow:loss = 0.07604707, step = 44500 (0.578 sec)\n",
      "INFO:tensorflow:global_step/sec: 176.337\n",
      "INFO:tensorflow:loss = 0.086329155, step = 44600 (0.569 sec)\n",
      "INFO:tensorflow:global_step/sec: 171.243\n",
      "INFO:tensorflow:loss = 0.08243577, step = 44700 (0.582 sec)\n",
      "INFO:tensorflow:global_step/sec: 178.83\n",
      "INFO:tensorflow:loss = 0.07201192, step = 44800 (0.559 sec)\n",
      "INFO:tensorflow:global_step/sec: 181.196\n",
      "INFO:tensorflow:loss = 0.07214291, step = 44900 (0.559 sec)\n",
      "INFO:tensorflow:global_step/sec: 169.609\n",
      "INFO:tensorflow:loss = 0.07661691, step = 45000 (0.584 sec)\n",
      "INFO:tensorflow:global_step/sec: 178.902\n",
      "INFO:tensorflow:loss = 0.09103474, step = 45100 (0.558 sec)\n",
      "INFO:tensorflow:global_step/sec: 169.642\n",
      "INFO:tensorflow:loss = 0.073834114, step = 45200 (0.590 sec)\n",
      "INFO:tensorflow:global_step/sec: 171.761\n",
      "INFO:tensorflow:loss = 0.07780788, step = 45300 (0.583 sec)\n",
      "INFO:tensorflow:global_step/sec: 173.912\n",
      "INFO:tensorflow:loss = 0.075552076, step = 45400 (0.576 sec)\n",
      "INFO:tensorflow:global_step/sec: 172.471\n",
      "INFO:tensorflow:loss = 0.06396322, step = 45500 (0.580 sec)\n",
      "INFO:tensorflow:global_step/sec: 180.265\n",
      "INFO:tensorflow:loss = 0.07727146, step = 45600 (0.555 sec)\n",
      "INFO:tensorflow:global_step/sec: 172.447\n",
      "INFO:tensorflow:loss = 0.08680313, step = 45700 (0.574 sec)\n",
      "INFO:tensorflow:global_step/sec: 173.62\n",
      "INFO:tensorflow:loss = 0.0756923, step = 45800 (0.576 sec)\n",
      "INFO:tensorflow:global_step/sec: 172.455\n",
      "INFO:tensorflow:loss = 0.07528065, step = 45900 (0.581 sec)\n",
      "INFO:tensorflow:global_step/sec: 180.251\n",
      "INFO:tensorflow:loss = 0.073509976, step = 46000 (0.559 sec)\n",
      "INFO:tensorflow:global_step/sec: 165.312\n",
      "INFO:tensorflow:loss = 0.07397288, step = 46100 (0.601 sec)\n",
      "INFO:tensorflow:global_step/sec: 167.592\n",
      "INFO:tensorflow:loss = 0.076520145, step = 46200 (0.597 sec)\n",
      "INFO:tensorflow:global_step/sec: 180.739\n",
      "INFO:tensorflow:loss = 0.085036114, step = 46300 (0.586 sec)\n",
      "INFO:tensorflow:global_step/sec: 167.824\n",
      "INFO:tensorflow:loss = 0.07671596, step = 46400 (0.567 sec)\n",
      "INFO:tensorflow:global_step/sec: 177.316\n",
      "INFO:tensorflow:loss = 0.07269202, step = 46500 (0.562 sec)\n",
      "INFO:tensorflow:global_step/sec: 170.856\n",
      "INFO:tensorflow:loss = 0.072474204, step = 46600 (0.590 sec)\n",
      "INFO:tensorflow:global_step/sec: 173.593\n",
      "INFO:tensorflow:loss = 0.06473071, step = 46700 (0.570 sec)\n",
      "INFO:tensorflow:global_step/sec: 174.228\n",
      "INFO:tensorflow:loss = 0.075593986, step = 46800 (0.576 sec)\n",
      "INFO:tensorflow:global_step/sec: 178.711\n",
      "INFO:tensorflow:loss = 0.085017055, step = 46900 (0.560 sec)\n",
      "INFO:tensorflow:global_step/sec: 152.592\n",
      "INFO:tensorflow:loss = 0.06744753, step = 47000 (0.655 sec)\n",
      "INFO:tensorflow:global_step/sec: 163.496\n",
      "INFO:tensorflow:loss = 0.07313278, step = 47100 (0.609 sec)\n",
      "INFO:tensorflow:global_step/sec: 160.266\n"
     ]
    },
    {
     "name": "stdout",
     "output_type": "stream",
     "text": [
      "INFO:tensorflow:loss = 0.070029624, step = 47200 (0.624 sec)\n",
      "INFO:tensorflow:global_step/sec: 141.452\n",
      "INFO:tensorflow:loss = 0.07967022, step = 47300 (0.708 sec)\n",
      "INFO:tensorflow:global_step/sec: 171.256\n",
      "INFO:tensorflow:loss = 0.07355818, step = 47400 (0.582 sec)\n",
      "INFO:tensorflow:global_step/sec: 179.631\n",
      "INFO:tensorflow:loss = 0.08051614, step = 47500 (0.557 sec)\n",
      "INFO:tensorflow:global_step/sec: 180.517\n",
      "INFO:tensorflow:loss = 0.08102238, step = 47600 (0.554 sec)\n",
      "INFO:tensorflow:global_step/sec: 182.54\n",
      "INFO:tensorflow:loss = 0.0764189, step = 47700 (0.551 sec)\n",
      "INFO:tensorflow:global_step/sec: 161.344\n",
      "INFO:tensorflow:loss = 0.07423507, step = 47800 (0.623 sec)\n",
      "INFO:tensorflow:global_step/sec: 166.83\n",
      "INFO:tensorflow:loss = 0.074549496, step = 47900 (0.595 sec)\n",
      "INFO:tensorflow:global_step/sec: 176.378\n",
      "INFO:tensorflow:loss = 0.07245657, step = 48000 (0.566 sec)\n",
      "INFO:tensorflow:global_step/sec: 166.123\n",
      "INFO:tensorflow:loss = 0.08311853, step = 48100 (0.603 sec)\n",
      "INFO:tensorflow:global_step/sec: 181.351\n",
      "INFO:tensorflow:loss = 0.07745002, step = 48200 (0.547 sec)\n",
      "INFO:tensorflow:global_step/sec: 175.312\n",
      "INFO:tensorflow:loss = 0.0737364, step = 48300 (0.573 sec)\n",
      "INFO:tensorflow:global_step/sec: 149.837\n",
      "INFO:tensorflow:loss = 0.07009012, step = 48400 (0.668 sec)\n",
      "INFO:tensorflow:global_step/sec: 152.655\n",
      "INFO:tensorflow:loss = 0.07037834, step = 48500 (0.659 sec)\n",
      "INFO:tensorflow:global_step/sec: 153.004\n",
      "INFO:tensorflow:loss = 0.07718804, step = 48600 (0.650 sec)\n",
      "INFO:tensorflow:global_step/sec: 162.691\n",
      "INFO:tensorflow:loss = 0.06884037, step = 48700 (0.616 sec)\n",
      "INFO:tensorflow:global_step/sec: 156.756\n",
      "INFO:tensorflow:loss = 0.07604711, step = 48800 (0.637 sec)\n",
      "INFO:tensorflow:global_step/sec: 166.31\n",
      "INFO:tensorflow:loss = 0.07224987, step = 48900 (0.601 sec)\n",
      "INFO:tensorflow:global_step/sec: 178.127\n",
      "INFO:tensorflow:loss = 0.08507961, step = 49000 (0.558 sec)\n",
      "INFO:tensorflow:global_step/sec: 176.216\n",
      "INFO:tensorflow:loss = 0.0723446, step = 49100 (0.568 sec)\n",
      "INFO:tensorflow:global_step/sec: 181.529\n",
      "INFO:tensorflow:loss = 0.07393136, step = 49200 (0.558 sec)\n",
      "INFO:tensorflow:global_step/sec: 178.559\n",
      "INFO:tensorflow:loss = 0.06626572, step = 49300 (0.560 sec)\n",
      "INFO:tensorflow:global_step/sec: 170.557\n",
      "INFO:tensorflow:loss = 0.07883887, step = 49400 (0.580 sec)\n",
      "INFO:tensorflow:global_step/sec: 181.071\n",
      "INFO:tensorflow:loss = 0.07982422, step = 49500 (0.552 sec)\n",
      "INFO:tensorflow:global_step/sec: 174.383\n",
      "INFO:tensorflow:loss = 0.07549303, step = 49600 (0.572 sec)\n",
      "INFO:tensorflow:global_step/sec: 172.454\n",
      "INFO:tensorflow:loss = 0.07814837, step = 49700 (0.588 sec)\n",
      "INFO:tensorflow:global_step/sec: 164.388\n",
      "INFO:tensorflow:loss = 0.07356112, step = 49800 (0.601 sec)\n",
      "INFO:tensorflow:global_step/sec: 178.604\n",
      "INFO:tensorflow:loss = 0.07505424, step = 49900 (0.560 sec)\n",
      "INFO:tensorflow:Calling checkpoint listeners before saving checkpoint 50000...\n",
      "INFO:tensorflow:Saving checkpoints for 50000 into C:\\Users\\RIOPHO~1\\AppData\\Local\\Temp\\tmp2y2_qmcx\\model.ckpt.\n",
      "INFO:tensorflow:Calling checkpoint listeners after saving checkpoint 50000...\n",
      "INFO:tensorflow:Loss for final step: 0.07471131.\n"
     ]
    },
    {
     "data": {
      "text/plain": [
       "<tensorflow_estimator.python.estimator.canned.dnn.DNNClassifierV2 at 0x1f2ba1c5940>"
      ]
     },
     "execution_count": 21,
     "metadata": {},
     "output_type": "execute_result"
    }
   ],
   "source": [
    "classificador.train(\n",
    "    input_fn= lambda: input_fn(treino, treino_y, training=True),\n",
    "steps=50000)"
   ]
  },
  {
   "cell_type": "markdown",
   "metadata": {},
   "source": [
    "## Testando"
   ]
  },
  {
   "cell_type": "code",
   "execution_count": 22,
   "metadata": {},
   "outputs": [
    {
     "name": "stdout",
     "output_type": "stream",
     "text": [
      "INFO:tensorflow:Calling model_fn.\n",
      "WARNING:tensorflow:Layer dnn is casting an input tensor from dtype float64 to the layer's dtype of float32, which is new behavior in TensorFlow 2.  The layer has dtype float32 because its dtype defaults to floatx.\n",
      "\n",
      "If you intended to run this layer in float32, you can safely ignore this warning. If in doubt, this warning is likely only an issue if you are porting a TensorFlow 1.X model to TensorFlow 2.\n",
      "\n",
      "To change all layers to have dtype float64 by default, call `tf.keras.backend.set_floatx('float64')`. To change just this layer, pass dtype='float64' to the layer constructor. If you are the author of this layer, you can disable autocasting by passing autocast=False to the base Layer constructor.\n",
      "\n",
      "INFO:tensorflow:Done calling model_fn.\n",
      "INFO:tensorflow:Starting evaluation at 2021-01-30T19:53:22Z\n",
      "INFO:tensorflow:Graph was finalized.\n",
      "INFO:tensorflow:Restoring parameters from C:\\Users\\RIOPHO~1\\AppData\\Local\\Temp\\tmp2y2_qmcx\\model.ckpt-50000\n",
      "INFO:tensorflow:Running local_init_op.\n",
      "INFO:tensorflow:Done running local_init_op.\n",
      "INFO:tensorflow:Inference Time : 0.82037s\n",
      "INFO:tensorflow:Finished evaluation at 2021-01-30-19:53:23\n",
      "INFO:tensorflow:Saving dict for global step 50000: accuracy = 0.96666664, average_loss = 0.076937065, global_step = 50000, loss = 0.076937065\n",
      "INFO:tensorflow:Saving 'checkpoint_path' summary for global step 50000: C:\\Users\\RIOPHO~1\\AppData\\Local\\Temp\\tmp2y2_qmcx\\model.ckpt-50000\n",
      "\n",
      "Test accuracy: 0.967\n",
      "\n"
     ]
    }
   ],
   "source": [
    "eval_resultado = classificador.evaluate(\n",
    "    input_fn=lambda: input_fn(teste, teste_y, training=False))\n",
    "\n",
    "print('\\nTest accuracy: {accuracy:0.3f}\\n'.format(**eval_resultado))"
   ]
  },
  {
   "cell_type": "markdown",
   "metadata": {},
   "source": [
    "### FAZENDO PREDIÇÕES"
   ]
  },
  {
   "cell_type": "code",
   "execution_count": 26,
   "metadata": {},
   "outputs": [
    {
     "name": "stdout",
     "output_type": "stream",
     "text": [
      "Entra os valores quando solicitados\n",
      "SepalLength: 23\n",
      "SepalLength: 12\n",
      "SepalLength: 12\n",
      "SepalLength: 3\n",
      "SepalLength: 4\n",
      "SepalLength: 2\n",
      "SepalLength: 0.5\n",
      "SepalWidth: 2\n",
      "SepalWidth: 0.4\n",
      "PetalLength: 0.5\n",
      "PetalWidth: 0.3\n",
      "INFO:tensorflow:Calling model_fn.\n",
      "INFO:tensorflow:Done calling model_fn.\n",
      "INFO:tensorflow:Graph was finalized.\n",
      "INFO:tensorflow:Restoring parameters from C:\\Users\\RIOPHO~1\\AppData\\Local\\Temp\\tmp2y2_qmcx\\model.ckpt-50000\n",
      "INFO:tensorflow:Running local_init_op.\n",
      "INFO:tensorflow:Done running local_init_op.\n",
      "Prediction is \"Versicolor\" (42.3%)\n"
     ]
    }
   ],
   "source": [
    "# o scrip abaixo classifica novos dados que o úsuario colocar\n",
    "\n",
    "def input_fn(features, batch_size=256):\n",
    "    # Converte os inputs para um Dataset sem labels.\n",
    "    return tf.data.Dataset.from_tensor_slices(dict(features)).batch(batch_size)\n",
    "\n",
    "features = ['SepalLength', 'SepalWidth', 'PetalLength', 'PetalWidth']\n",
    "predict = {}\n",
    "\n",
    "print(\"Entra os valores quando solicitados\")\n",
    "for feature in features:\n",
    "  valid = True\n",
    "  while valid: \n",
    "    val = input(feature + \": \")\n",
    "    if not val.isdigit(): valid = False\n",
    "\n",
    "  predict[feature] = [float(val)]\n",
    "\n",
    "predicoes = classificador.predict(input_fn=lambda: input_fn(predict))\n",
    "for pred_dict in predicoes:\n",
    "    class_id = pred_dict['class_ids'][0]\n",
    "    probabilidade = pred_dict['probabilities'][class_id]\n",
    "\n",
    "    print('Prediction is \"{}\" ({:.1f}%)'.format(\n",
    "        ESPECIES[class_id], 100 * probabilidade))"
   ]
  },
  {
   "cell_type": "code",
   "execution_count": null,
   "metadata": {},
   "outputs": [],
   "source": []
  }
 ],
 "metadata": {
  "kernelspec": {
   "display_name": "Python 3",
   "language": "python",
   "name": "python3"
  },
  "language_info": {
   "codemirror_mode": {
    "name": "ipython",
    "version": 3
   },
   "file_extension": ".py",
   "mimetype": "text/x-python",
   "name": "python",
   "nbconvert_exporter": "python",
   "pygments_lexer": "ipython3",
   "version": "3.8.5"
  }
 },
 "nbformat": 4,
 "nbformat_minor": 4
}
